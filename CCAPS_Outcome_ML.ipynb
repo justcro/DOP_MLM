{
 "cells": [
  {
   "cell_type": "markdown",
   "metadata": {},
   "source": [
    "# CCAPS Distress Outcome Predictor:  Machine Learning Model Development"
   ]
  },
  {
   "cell_type": "markdown",
   "metadata": {},
   "source": [
    "### Import necessary packages"
   ]
  },
  {
   "cell_type": "code",
   "execution_count": 1,
   "metadata": {},
   "outputs": [],
   "source": [
    "import os\n",
    "import csv\n",
    "import re\n",
    "import numpy as np\n",
    "import pandas as pd\n",
    "import seaborn as sns\n",
    "import warnings"
   ]
  },
  {
   "cell_type": "markdown",
   "metadata": {},
   "source": [
    "### Read and store .csv file containing CCAPS data.  "
   ]
  },
  {
   "cell_type": "markdown",
   "metadata": {},
   "source": [
    "This .csv file has been manually sorted according to date (ascending) and CCAPSClientID.  The sorting was expanded to preserve all rows' original positions.  It contains approximately 33 months of CCAPS data from CAPS at Liberty University."
   ]
  },
  {
   "cell_type": "code",
   "execution_count": 2,
   "metadata": {},
   "outputs": [
    {
     "data": {
      "text/html": [
       "<div>\n",
       "<style scoped>\n",
       "    .dataframe tbody tr th:only-of-type {\n",
       "        vertical-align: middle;\n",
       "    }\n",
       "\n",
       "    .dataframe tbody tr th {\n",
       "        vertical-align: top;\n",
       "    }\n",
       "\n",
       "    .dataframe thead th {\n",
       "        text-align: right;\n",
       "    }\n",
       "</style>\n",
       "<table border=\"1\" class=\"dataframe\">\n",
       "  <thead>\n",
       "    <tr style=\"text-align: right;\">\n",
       "      <th></th>\n",
       "      <th>CCAPSClientID</th>\n",
       "      <th>Distress_Index</th>\n",
       "    </tr>\n",
       "  </thead>\n",
       "  <tbody>\n",
       "    <tr>\n",
       "      <th>0</th>\n",
       "      <td>643590</td>\n",
       "      <td>1.80</td>\n",
       "    </tr>\n",
       "    <tr>\n",
       "      <th>1</th>\n",
       "      <td>643590</td>\n",
       "      <td>1.75</td>\n",
       "    </tr>\n",
       "    <tr>\n",
       "      <th>2</th>\n",
       "      <td>643635</td>\n",
       "      <td>1.80</td>\n",
       "    </tr>\n",
       "    <tr>\n",
       "      <th>3</th>\n",
       "      <td>643635</td>\n",
       "      <td>1.20</td>\n",
       "    </tr>\n",
       "    <tr>\n",
       "      <th>4</th>\n",
       "      <td>643635</td>\n",
       "      <td>0.35</td>\n",
       "    </tr>\n",
       "    <tr>\n",
       "      <th>...</th>\n",
       "      <td>...</td>\n",
       "      <td>...</td>\n",
       "    </tr>\n",
       "    <tr>\n",
       "      <th>6130</th>\n",
       "      <td>1130103</td>\n",
       "      <td>2.45</td>\n",
       "    </tr>\n",
       "    <tr>\n",
       "      <th>6131</th>\n",
       "      <td>1130209</td>\n",
       "      <td>2.45</td>\n",
       "    </tr>\n",
       "    <tr>\n",
       "      <th>6132</th>\n",
       "      <td>1131252</td>\n",
       "      <td>1.95</td>\n",
       "    </tr>\n",
       "    <tr>\n",
       "      <th>6133</th>\n",
       "      <td>1131299</td>\n",
       "      <td>2.55</td>\n",
       "    </tr>\n",
       "    <tr>\n",
       "      <th>6134</th>\n",
       "      <td>1131838</td>\n",
       "      <td>2.00</td>\n",
       "    </tr>\n",
       "  </tbody>\n",
       "</table>\n",
       "<p>6135 rows × 2 columns</p>\n",
       "</div>"
      ],
      "text/plain": [
       "      CCAPSClientID  Distress_Index\n",
       "0            643590            1.80\n",
       "1            643590            1.75\n",
       "2            643635            1.80\n",
       "3            643635            1.20\n",
       "4            643635            0.35\n",
       "...             ...             ...\n",
       "6130        1130103            2.45\n",
       "6131        1130209            2.45\n",
       "6132        1131252            1.95\n",
       "6133        1131299            2.55\n",
       "6134        1131838            2.00\n",
       "\n",
       "[6135 rows x 2 columns]"
      ]
     },
     "execution_count": 2,
     "metadata": {},
     "output_type": "execute_result"
    }
   ],
   "source": [
    "pre_post = pd.read_csv('CCAPS-62 Export for 2021-08-16 to 2024-05-10.csv')\n",
    "pre_post = pre_post[['CCAPSClientID', 'Distress_Index']]\n",
    "#Showing only clientID and Distress_Index columns\n",
    "pre_post"
   ]
  },
  {
   "cell_type": "markdown",
   "metadata": {},
   "source": [
    "### Remove single CCAPS instances and create new dataframe containing students with more than one CCAPS.\n",
    "### Ensure there is a pre- and post-treatment CCAPS for each student in this dataframe."
   ]
  },
  {
   "cell_type": "code",
   "execution_count": 3,
   "metadata": {},
   "outputs": [
    {
     "data": {
      "text/html": [
       "<div>\n",
       "<style scoped>\n",
       "    .dataframe tbody tr th:only-of-type {\n",
       "        vertical-align: middle;\n",
       "    }\n",
       "\n",
       "    .dataframe tbody tr th {\n",
       "        vertical-align: top;\n",
       "    }\n",
       "\n",
       "    .dataframe thead th {\n",
       "        text-align: right;\n",
       "    }\n",
       "</style>\n",
       "<table border=\"1\" class=\"dataframe\">\n",
       "  <thead>\n",
       "    <tr style=\"text-align: right;\">\n",
       "      <th></th>\n",
       "      <th>CCAPSClientID</th>\n",
       "      <th>Distress_Index</th>\n",
       "    </tr>\n",
       "  </thead>\n",
       "  <tbody>\n",
       "    <tr>\n",
       "      <th>0</th>\n",
       "      <td>643590</td>\n",
       "      <td>1.80</td>\n",
       "    </tr>\n",
       "    <tr>\n",
       "      <th>1</th>\n",
       "      <td>643590</td>\n",
       "      <td>1.75</td>\n",
       "    </tr>\n",
       "    <tr>\n",
       "      <th>2</th>\n",
       "      <td>643635</td>\n",
       "      <td>1.80</td>\n",
       "    </tr>\n",
       "    <tr>\n",
       "      <th>3</th>\n",
       "      <td>643635</td>\n",
       "      <td>1.20</td>\n",
       "    </tr>\n",
       "    <tr>\n",
       "      <th>4</th>\n",
       "      <td>643635</td>\n",
       "      <td>0.35</td>\n",
       "    </tr>\n",
       "    <tr>\n",
       "      <th>...</th>\n",
       "      <td>...</td>\n",
       "      <td>...</td>\n",
       "    </tr>\n",
       "    <tr>\n",
       "      <th>6110</th>\n",
       "      <td>1125838</td>\n",
       "      <td>0.90</td>\n",
       "    </tr>\n",
       "    <tr>\n",
       "      <th>6111</th>\n",
       "      <td>1126127</td>\n",
       "      <td>2.15</td>\n",
       "    </tr>\n",
       "    <tr>\n",
       "      <th>6112</th>\n",
       "      <td>1126127</td>\n",
       "      <td>2.20</td>\n",
       "    </tr>\n",
       "    <tr>\n",
       "      <th>6118</th>\n",
       "      <td>1126590</td>\n",
       "      <td>2.95</td>\n",
       "    </tr>\n",
       "    <tr>\n",
       "      <th>6119</th>\n",
       "      <td>1126590</td>\n",
       "      <td>2.15</td>\n",
       "    </tr>\n",
       "  </tbody>\n",
       "</table>\n",
       "<p>4690 rows × 2 columns</p>\n",
       "</div>"
      ],
      "text/plain": [
       "      CCAPSClientID  Distress_Index\n",
       "0            643590            1.80\n",
       "1            643590            1.75\n",
       "2            643635            1.80\n",
       "3            643635            1.20\n",
       "4            643635            0.35\n",
       "...             ...             ...\n",
       "6110        1125838            0.90\n",
       "6111        1126127            2.15\n",
       "6112        1126127            2.20\n",
       "6118        1126590            2.95\n",
       "6119        1126590            2.15\n",
       "\n",
       "[4690 rows x 2 columns]"
      ]
     },
     "execution_count": 3,
     "metadata": {},
     "output_type": "execute_result"
    }
   ],
   "source": [
    "pre_post = pre_post[pre_post.duplicated(subset = ['CCAPSClientID'], keep=False)]\n",
    "pre_post"
   ]
  },
  {
   "cell_type": "code",
   "execution_count": 4,
   "metadata": {},
   "outputs": [
    {
     "name": "stdout",
     "output_type": "stream",
     "text": [
      "      CCAPSClientID  0\n",
      "0            643590  2\n",
      "1            643635  6\n",
      "2            643679  4\n",
      "3            643703  2\n",
      "4            643784  4\n",
      "...             ... ..\n",
      "1363        1125446  2\n",
      "1364        1125461  2\n",
      "1365        1125838  2\n",
      "1366        1126127  2\n",
      "1367        1126590  2\n",
      "\n",
      "[1368 rows x 2 columns]\n",
      "      CCAPSClientID  Distress_Index\n",
      "0            643590            1.80\n",
      "1            643590            1.75\n",
      "2            643635            1.80\n",
      "3            643635            1.20\n",
      "4            643635            0.35\n",
      "...             ...             ...\n",
      "6110        1125838            0.90\n",
      "6111        1126127            2.15\n",
      "6112        1126127            2.20\n",
      "6118        1126590            2.95\n",
      "6119        1126590            2.15\n",
      "\n",
      "[3466 rows x 2 columns]\n"
     ]
    }
   ],
   "source": [
    "#Are there conveniently an even number of duplicates for every student?  Find out by creating a pivot table.\n",
    "dup_counts = pre_post.pivot_table(index = ['CCAPSClientID'], aggfunc='size')\n",
    "dup_counts.to_csv('duplicate_counts.csv')\n",
    "\n",
    "dup_counts_df = pd.DataFrame(dup_counts)\n",
    "dup_counts_df\n",
    "\n",
    "#No, there are some with odd numbers of duplicates.  Create a dataframe that lists all the ClientIDs with even numbers of ccaps.\n",
    "dup_counts_df = dup_counts_df.drop(dup_counts_df[dup_counts_df[0] % 2 != 0].index)\n",
    "dup_counts_df.reset_index(inplace=True)\n",
    "print(dup_counts_df)\n",
    "\n",
    "#now iterate through this list and if the client ID in the dataset matches the ClientID here, keep it; otherwise, drop it.\n",
    "ccaps_id_lst = []\n",
    "for i in dup_counts_df['CCAPSClientID']:\n",
    "    ccaps_id_lst.append(i)\n",
    "\n",
    "#this is the new dataframe that includes only ccapsIDs with an even number of CCAPS.\n",
    "pre_post_2 = pre_post[pre_post.CCAPSClientID.isin(ccaps_id_lst)]\n",
    "print(pre_post_2)\n",
    "        "
   ]
  },
  {
   "cell_type": "markdown",
   "metadata": {},
   "source": [
    "# Target Data"
   ]
  },
  {
   "cell_type": "markdown",
   "metadata": {},
   "source": [
    "### Start with row one (the first duplicate), and every other row will be a follow-up CCAPS because there is an even number for each student and they are arranged by date."
   ]
  },
  {
   "cell_type": "code",
   "execution_count": 5,
   "metadata": {},
   "outputs": [
    {
     "data": {
      "text/html": [
       "<div>\n",
       "<style scoped>\n",
       "    .dataframe tbody tr th:only-of-type {\n",
       "        vertical-align: middle;\n",
       "    }\n",
       "\n",
       "    .dataframe tbody tr th {\n",
       "        vertical-align: top;\n",
       "    }\n",
       "\n",
       "    .dataframe thead th {\n",
       "        text-align: right;\n",
       "    }\n",
       "</style>\n",
       "<table border=\"1\" class=\"dataframe\">\n",
       "  <thead>\n",
       "    <tr style=\"text-align: right;\">\n",
       "      <th></th>\n",
       "      <th>CCAPSClientID</th>\n",
       "      <th>Distress_Index</th>\n",
       "    </tr>\n",
       "  </thead>\n",
       "  <tbody>\n",
       "    <tr>\n",
       "      <th>1</th>\n",
       "      <td>643590</td>\n",
       "      <td>1.75</td>\n",
       "    </tr>\n",
       "    <tr>\n",
       "      <th>3</th>\n",
       "      <td>643635</td>\n",
       "      <td>1.20</td>\n",
       "    </tr>\n",
       "    <tr>\n",
       "      <th>5</th>\n",
       "      <td>643635</td>\n",
       "      <td>0.40</td>\n",
       "    </tr>\n",
       "    <tr>\n",
       "      <th>7</th>\n",
       "      <td>643635</td>\n",
       "      <td>0.00</td>\n",
       "    </tr>\n",
       "    <tr>\n",
       "      <th>9</th>\n",
       "      <td>643679</td>\n",
       "      <td>1.15</td>\n",
       "    </tr>\n",
       "    <tr>\n",
       "      <th>...</th>\n",
       "      <td>...</td>\n",
       "      <td>...</td>\n",
       "    </tr>\n",
       "    <tr>\n",
       "      <th>6102</th>\n",
       "      <td>1125446</td>\n",
       "      <td>1.55</td>\n",
       "    </tr>\n",
       "    <tr>\n",
       "      <th>6106</th>\n",
       "      <td>1125461</td>\n",
       "      <td>0.10</td>\n",
       "    </tr>\n",
       "    <tr>\n",
       "      <th>6110</th>\n",
       "      <td>1125838</td>\n",
       "      <td>0.90</td>\n",
       "    </tr>\n",
       "    <tr>\n",
       "      <th>6112</th>\n",
       "      <td>1126127</td>\n",
       "      <td>2.20</td>\n",
       "    </tr>\n",
       "    <tr>\n",
       "      <th>6119</th>\n",
       "      <td>1126590</td>\n",
       "      <td>2.15</td>\n",
       "    </tr>\n",
       "  </tbody>\n",
       "</table>\n",
       "<p>1733 rows × 2 columns</p>\n",
       "</div>"
      ],
      "text/plain": [
       "      CCAPSClientID  Distress_Index\n",
       "1            643590            1.75\n",
       "3            643635            1.20\n",
       "5            643635            0.40\n",
       "7            643635            0.00\n",
       "9            643679            1.15\n",
       "...             ...             ...\n",
       "6102        1125446            1.55\n",
       "6106        1125461            0.10\n",
       "6110        1125838            0.90\n",
       "6112        1126127            2.20\n",
       "6119        1126590            2.15\n",
       "\n",
       "[1733 rows x 2 columns]"
      ]
     },
     "execution_count": 5,
     "metadata": {},
     "output_type": "execute_result"
    }
   ],
   "source": [
    "#Print a list of clients' post-treatment Distress Index scores,\n",
    "exit_DI = pre_post_2[1::2]\n",
    "exit_DI"
   ]
  },
  {
   "cell_type": "code",
   "execution_count": 6,
   "metadata": {},
   "outputs": [
    {
     "data": {
      "text/plain": [
       "CCAPSClientID       int64\n",
       "Distress_Index    float64\n",
       "dtype: object"
      ]
     },
     "execution_count": 6,
     "metadata": {},
     "output_type": "execute_result"
    }
   ],
   "source": [
    "# Explore datatypes in this dataframe.\n",
    "exit_DI.dtypes"
   ]
  },
  {
   "cell_type": "code",
   "execution_count": 7,
   "metadata": {},
   "outputs": [
    {
     "name": "stderr",
     "output_type": "stream",
     "text": [
      "C:\\Users\\JCross\\AppData\\Local\\Temp\\ipykernel_6616\\443771644.py:2: SettingWithCopyWarning: \n",
      "A value is trying to be set on a copy of a slice from a DataFrame.\n",
      "Try using .loc[row_indexer,col_indexer] = value instead\n",
      "\n",
      "See the caveats in the documentation: https://pandas.pydata.org/pandas-docs/stable/user_guide/indexing.html#returning-a-view-versus-a-copy\n",
      "  exit_DI['CCAPSClientID'] = exit_DI['CCAPSClientID'].astype(str)\n"
     ]
    }
   ],
   "source": [
    "#change the CCAPSClientID column data to string data so it won't be manipulated by numerical operations.\n",
    "exit_DI['CCAPSClientID'] = exit_DI['CCAPSClientID'].astype(str)"
   ]
  },
  {
   "cell_type": "code",
   "execution_count": 8,
   "metadata": {},
   "outputs": [
    {
     "data": {
      "text/plain": [
       "CCAPSClientID      object\n",
       "Distress_Index    float64\n",
       "dtype: object"
      ]
     },
     "execution_count": 8,
     "metadata": {},
     "output_type": "execute_result"
    }
   ],
   "source": [
    "# Re-check data types.\n",
    "exit_DI.dtypes"
   ]
  },
  {
   "cell_type": "code",
   "execution_count": 9,
   "metadata": {},
   "outputs": [
    {
     "data": {
      "text/plain": [
       "1       1.75\n",
       "3       1.20\n",
       "5       0.40\n",
       "7       0.00\n",
       "9       1.15\n",
       "        ... \n",
       "6102    1.55\n",
       "6106    0.10\n",
       "6110    0.90\n",
       "6112    2.20\n",
       "6119    2.15\n",
       "Name: Distress_Index, Length: 1733, dtype: float64"
      ]
     },
     "execution_count": 9,
     "metadata": {},
     "output_type": "execute_result"
    }
   ],
   "source": [
    "exit_DI['Distress_Index']"
   ]
  },
  {
   "cell_type": "markdown",
   "metadata": {},
   "source": [
    "### Categorize Target Data as Low, Medium, or High\n",
    "The cut scores for the categories were derived from the CCAPS 2021 Manual (pp. 14, 23)."
   ]
  },
  {
   "cell_type": "code",
   "execution_count": 10,
   "metadata": {},
   "outputs": [
    {
     "name": "stderr",
     "output_type": "stream",
     "text": [
      "C:\\Users\\JCross\\AppData\\Local\\Temp\\ipykernel_6616\\298204848.py:5: SettingWithCopyWarning: \n",
      "A value is trying to be set on a copy of a slice from a DataFrame.\n",
      "Try using .loc[row_indexer,col_indexer] = value instead\n",
      "\n",
      "See the caveats in the documentation: https://pandas.pydata.org/pandas-docs/stable/user_guide/indexing.html#returning-a-view-versus-a-copy\n",
      "  exit_DI.loc[:, 'Categories'] = pd.cut(x = exit_DI['Distress_Index'], bins = [-0.01, 1.30, 2.24, 4.0], labels = ['Low', 'Moderate', 'High'])\n"
     ]
    },
    {
     "data": {
      "text/html": [
       "<div>\n",
       "<style scoped>\n",
       "    .dataframe tbody tr th:only-of-type {\n",
       "        vertical-align: middle;\n",
       "    }\n",
       "\n",
       "    .dataframe tbody tr th {\n",
       "        vertical-align: top;\n",
       "    }\n",
       "\n",
       "    .dataframe thead th {\n",
       "        text-align: right;\n",
       "    }\n",
       "</style>\n",
       "<table border=\"1\" class=\"dataframe\">\n",
       "  <thead>\n",
       "    <tr style=\"text-align: right;\">\n",
       "      <th></th>\n",
       "      <th>CCAPSClientID</th>\n",
       "      <th>Distress_Index</th>\n",
       "      <th>Categories</th>\n",
       "    </tr>\n",
       "  </thead>\n",
       "  <tbody>\n",
       "    <tr>\n",
       "      <th>1</th>\n",
       "      <td>643590</td>\n",
       "      <td>1.75000</td>\n",
       "      <td>Moderate</td>\n",
       "    </tr>\n",
       "    <tr>\n",
       "      <th>3</th>\n",
       "      <td>643635</td>\n",
       "      <td>1.20000</td>\n",
       "      <td>Low</td>\n",
       "    </tr>\n",
       "    <tr>\n",
       "      <th>5</th>\n",
       "      <td>643635</td>\n",
       "      <td>0.40000</td>\n",
       "      <td>Low</td>\n",
       "    </tr>\n",
       "    <tr>\n",
       "      <th>7</th>\n",
       "      <td>643635</td>\n",
       "      <td>0.00001</td>\n",
       "      <td>Low</td>\n",
       "    </tr>\n",
       "    <tr>\n",
       "      <th>9</th>\n",
       "      <td>643679</td>\n",
       "      <td>1.15000</td>\n",
       "      <td>Low</td>\n",
       "    </tr>\n",
       "    <tr>\n",
       "      <th>...</th>\n",
       "      <td>...</td>\n",
       "      <td>...</td>\n",
       "      <td>...</td>\n",
       "    </tr>\n",
       "    <tr>\n",
       "      <th>6102</th>\n",
       "      <td>1125446</td>\n",
       "      <td>1.55000</td>\n",
       "      <td>Moderate</td>\n",
       "    </tr>\n",
       "    <tr>\n",
       "      <th>6106</th>\n",
       "      <td>1125461</td>\n",
       "      <td>0.10000</td>\n",
       "      <td>Low</td>\n",
       "    </tr>\n",
       "    <tr>\n",
       "      <th>6110</th>\n",
       "      <td>1125838</td>\n",
       "      <td>0.90000</td>\n",
       "      <td>Low</td>\n",
       "    </tr>\n",
       "    <tr>\n",
       "      <th>6112</th>\n",
       "      <td>1126127</td>\n",
       "      <td>2.20000</td>\n",
       "      <td>Moderate</td>\n",
       "    </tr>\n",
       "    <tr>\n",
       "      <th>6119</th>\n",
       "      <td>1126590</td>\n",
       "      <td>2.15000</td>\n",
       "      <td>Moderate</td>\n",
       "    </tr>\n",
       "  </tbody>\n",
       "</table>\n",
       "<p>1733 rows × 3 columns</p>\n",
       "</div>"
      ],
      "text/plain": [
       "     CCAPSClientID  Distress_Index Categories\n",
       "1           643590         1.75000   Moderate\n",
       "3           643635         1.20000        Low\n",
       "5           643635         0.40000        Low\n",
       "7           643635         0.00001        Low\n",
       "9           643679         1.15000        Low\n",
       "...            ...             ...        ...\n",
       "6102       1125446         1.55000   Moderate\n",
       "6106       1125461         0.10000        Low\n",
       "6110       1125838         0.90000        Low\n",
       "6112       1126127         2.20000   Moderate\n",
       "6119       1126590         2.15000   Moderate\n",
       "\n",
       "[1733 rows x 3 columns]"
      ]
     },
     "execution_count": 10,
     "metadata": {},
     "output_type": "execute_result"
    }
   ],
   "source": [
    "# First get rid of any 0.00 values by replacing with a negligible flooat value.\n",
    "mask = exit_DI['Distress_Index'] == 0.00\n",
    "exit_DI.loc[mask, 'Distress_Index'] = 0.00001\n",
    "# Now categorize\n",
    "exit_DI.loc[:, 'Categories'] = pd.cut(x = exit_DI['Distress_Index'], bins = [-0.01, 1.30, 2.24, 4.0], labels = ['Low', 'Moderate', 'High'])\n",
    "exit_DI"
   ]
  },
  {
   "cell_type": "code",
   "execution_count": 11,
   "metadata": {},
   "outputs": [
    {
     "data": {
      "text/html": [
       "<div>\n",
       "<style scoped>\n",
       "    .dataframe tbody tr th:only-of-type {\n",
       "        vertical-align: middle;\n",
       "    }\n",
       "\n",
       "    .dataframe tbody tr th {\n",
       "        vertical-align: top;\n",
       "    }\n",
       "\n",
       "    .dataframe thead th {\n",
       "        text-align: right;\n",
       "    }\n",
       "</style>\n",
       "<table border=\"1\" class=\"dataframe\">\n",
       "  <thead>\n",
       "    <tr style=\"text-align: right;\">\n",
       "      <th></th>\n",
       "      <th>CCAPSClientID</th>\n",
       "      <th>Distress_Index</th>\n",
       "      <th>Categories</th>\n",
       "    </tr>\n",
       "  </thead>\n",
       "  <tbody>\n",
       "    <tr>\n",
       "      <th>1</th>\n",
       "      <td>643590</td>\n",
       "      <td>1.75000</td>\n",
       "      <td>Moderate</td>\n",
       "    </tr>\n",
       "    <tr>\n",
       "      <th>3</th>\n",
       "      <td>643635</td>\n",
       "      <td>1.20000</td>\n",
       "      <td>Low</td>\n",
       "    </tr>\n",
       "    <tr>\n",
       "      <th>5</th>\n",
       "      <td>643635</td>\n",
       "      <td>0.40000</td>\n",
       "      <td>Low</td>\n",
       "    </tr>\n",
       "    <tr>\n",
       "      <th>7</th>\n",
       "      <td>643635</td>\n",
       "      <td>0.00001</td>\n",
       "      <td>Low</td>\n",
       "    </tr>\n",
       "    <tr>\n",
       "      <th>9</th>\n",
       "      <td>643679</td>\n",
       "      <td>1.15000</td>\n",
       "      <td>Low</td>\n",
       "    </tr>\n",
       "    <tr>\n",
       "      <th>11</th>\n",
       "      <td>643679</td>\n",
       "      <td>1.00000</td>\n",
       "      <td>Low</td>\n",
       "    </tr>\n",
       "    <tr>\n",
       "      <th>13</th>\n",
       "      <td>643703</td>\n",
       "      <td>2.10000</td>\n",
       "      <td>Moderate</td>\n",
       "    </tr>\n",
       "    <tr>\n",
       "      <th>15</th>\n",
       "      <td>643784</td>\n",
       "      <td>2.05000</td>\n",
       "      <td>Moderate</td>\n",
       "    </tr>\n",
       "    <tr>\n",
       "      <th>17</th>\n",
       "      <td>643784</td>\n",
       "      <td>2.20000</td>\n",
       "      <td>Moderate</td>\n",
       "    </tr>\n",
       "    <tr>\n",
       "      <th>19</th>\n",
       "      <td>643841</td>\n",
       "      <td>1.50000</td>\n",
       "      <td>Moderate</td>\n",
       "    </tr>\n",
       "    <tr>\n",
       "      <th>21</th>\n",
       "      <td>644160</td>\n",
       "      <td>2.20000</td>\n",
       "      <td>Moderate</td>\n",
       "    </tr>\n",
       "    <tr>\n",
       "      <th>23</th>\n",
       "      <td>644160</td>\n",
       "      <td>1.80000</td>\n",
       "      <td>Moderate</td>\n",
       "    </tr>\n",
       "    <tr>\n",
       "      <th>25</th>\n",
       "      <td>644160</td>\n",
       "      <td>1.35000</td>\n",
       "      <td>Moderate</td>\n",
       "    </tr>\n",
       "    <tr>\n",
       "      <th>28</th>\n",
       "      <td>644308</td>\n",
       "      <td>1.10000</td>\n",
       "      <td>Low</td>\n",
       "    </tr>\n",
       "    <tr>\n",
       "      <th>30</th>\n",
       "      <td>644745</td>\n",
       "      <td>1.55000</td>\n",
       "      <td>Moderate</td>\n",
       "    </tr>\n",
       "    <tr>\n",
       "      <th>32</th>\n",
       "      <td>644745</td>\n",
       "      <td>1.90000</td>\n",
       "      <td>Moderate</td>\n",
       "    </tr>\n",
       "    <tr>\n",
       "      <th>35</th>\n",
       "      <td>645225</td>\n",
       "      <td>1.55000</td>\n",
       "      <td>Moderate</td>\n",
       "    </tr>\n",
       "    <tr>\n",
       "      <th>37</th>\n",
       "      <td>645225</td>\n",
       "      <td>1.90000</td>\n",
       "      <td>Moderate</td>\n",
       "    </tr>\n",
       "    <tr>\n",
       "      <th>44</th>\n",
       "      <td>645236</td>\n",
       "      <td>0.05000</td>\n",
       "      <td>Low</td>\n",
       "    </tr>\n",
       "    <tr>\n",
       "      <th>46</th>\n",
       "      <td>645293</td>\n",
       "      <td>0.50000</td>\n",
       "      <td>Low</td>\n",
       "    </tr>\n",
       "    <tr>\n",
       "      <th>48</th>\n",
       "      <td>645293</td>\n",
       "      <td>0.10000</td>\n",
       "      <td>Low</td>\n",
       "    </tr>\n",
       "    <tr>\n",
       "      <th>50</th>\n",
       "      <td>645313</td>\n",
       "      <td>0.65000</td>\n",
       "      <td>Low</td>\n",
       "    </tr>\n",
       "    <tr>\n",
       "      <th>52</th>\n",
       "      <td>645313</td>\n",
       "      <td>0.35000</td>\n",
       "      <td>Low</td>\n",
       "    </tr>\n",
       "    <tr>\n",
       "      <th>54</th>\n",
       "      <td>645313</td>\n",
       "      <td>0.45000</td>\n",
       "      <td>Low</td>\n",
       "    </tr>\n",
       "    <tr>\n",
       "      <th>56</th>\n",
       "      <td>645439</td>\n",
       "      <td>1.45000</td>\n",
       "      <td>Moderate</td>\n",
       "    </tr>\n",
       "  </tbody>\n",
       "</table>\n",
       "</div>"
      ],
      "text/plain": [
       "   CCAPSClientID  Distress_Index Categories\n",
       "1         643590         1.75000   Moderate\n",
       "3         643635         1.20000        Low\n",
       "5         643635         0.40000        Low\n",
       "7         643635         0.00001        Low\n",
       "9         643679         1.15000        Low\n",
       "11        643679         1.00000        Low\n",
       "13        643703         2.10000   Moderate\n",
       "15        643784         2.05000   Moderate\n",
       "17        643784         2.20000   Moderate\n",
       "19        643841         1.50000   Moderate\n",
       "21        644160         2.20000   Moderate\n",
       "23        644160         1.80000   Moderate\n",
       "25        644160         1.35000   Moderate\n",
       "28        644308         1.10000        Low\n",
       "30        644745         1.55000   Moderate\n",
       "32        644745         1.90000   Moderate\n",
       "35        645225         1.55000   Moderate\n",
       "37        645225         1.90000   Moderate\n",
       "44        645236         0.05000        Low\n",
       "46        645293         0.50000        Low\n",
       "48        645293         0.10000        Low\n",
       "50        645313         0.65000        Low\n",
       "52        645313         0.35000        Low\n",
       "54        645313         0.45000        Low\n",
       "56        645439         1.45000   Moderate"
      ]
     },
     "execution_count": 11,
     "metadata": {},
     "output_type": "execute_result"
    }
   ],
   "source": [
    "#View more rows of the dataframe to ensure functionality.\n",
    "exit_DI.head(25)"
   ]
  },
  {
   "cell_type": "markdown",
   "metadata": {},
   "source": [
    "### View the number of clients per category"
   ]
  },
  {
   "cell_type": "code",
   "execution_count": 12,
   "metadata": {},
   "outputs": [
    {
     "data": {
      "text/plain": [
       "Categories\n",
       "Low         1124\n",
       "Moderate     456\n",
       "High         152\n",
       "Name: count, dtype: int64"
      ]
     },
     "execution_count": 12,
     "metadata": {},
     "output_type": "execute_result"
    }
   ],
   "source": [
    "exit_DI['Categories'].value_counts()"
   ]
  },
  {
   "cell_type": "markdown",
   "metadata": {},
   "source": [
    "### Store these post-treatment distress index categories as the target (this is what we are training the model to predict)."
   ]
  },
  {
   "cell_type": "code",
   "execution_count": 13,
   "metadata": {},
   "outputs": [],
   "source": [
    "target = exit_DI['Categories']"
   ]
  },
  {
   "cell_type": "markdown",
   "metadata": {},
   "source": [
    "# Feature Data\n",
    "Features are what the machine learning model considers as variables that influence the target.  Here, the features are being identified and stored.  The features data are being extracted from a .csv file containing approximately 33 months worth of CCAPS data."
   ]
  },
  {
   "cell_type": "code",
   "execution_count": 14,
   "metadata": {},
   "outputs": [],
   "source": [
    "# Use pandas to read the .csv and translate to a dataframe.\n",
    "CCAPS_data = pd.read_csv('CCAPS-62 Export for 2021-08-16 to 2024-05-10.csv')\n",
    "CCAPS_df = pd.DataFrame(CCAPS_data)"
   ]
  },
  {
   "cell_type": "code",
   "execution_count": 15,
   "metadata": {},
   "outputs": [],
   "source": [
    "#keep only repeat CCAPS in the dataframe.  The pre-treatment CCAPS subscales are our features.\n",
    "ccaps_features = CCAPS_df[CCAPS_df.duplicated(subset = ['CCAPSClientID'], keep=False)]"
   ]
  },
  {
   "cell_type": "code",
   "execution_count": 16,
   "metadata": {},
   "outputs": [],
   "source": [
    "#make sure there exists only repeats in multiples of 2\n",
    "duplicate_counts = ccaps_features.pivot_table(index = ['CCAPSClientID'], aggfunc='size')\n",
    "duplicate_counts.to_csv('duplicate_counts.csv')\n",
    "\n",
    "duplicate_counts_df = pd.DataFrame(duplicate_counts)\n",
    "duplicate_counts_df\n",
    "\n",
    "#No, there are some with odd numbers of duplicates.  Create a dataframe that lists all the ClientIDs with even numbers of ccaps.\n",
    "duplicate_counts_df = duplicate_counts_df.drop(duplicate_counts_df[duplicate_counts_df[0] % 2 != 0].index)\n",
    "duplicate_counts_df.reset_index(inplace=True)\n",
    "\n",
    "\n",
    "#now iterate through this list and if the client ID in the dataset matches the ClientID here, keep it; otherwise, drop it.\n",
    "ccaps_ids_lst = []\n",
    "for i in duplicate_counts_df['CCAPSClientID']:\n",
    "    ccaps_ids_lst.append(i)\n",
    "\n",
    "#this is the new dataframe that includes only ccapsIDs with an even number of CCAPS.\n",
    "ccaps_features = ccaps_features[ccaps_features.CCAPSClientID.isin(ccaps_ids_lst)]\n"
   ]
  },
  {
   "cell_type": "markdown",
   "metadata": {},
   "source": [
    "### Keep only the first entry from each set of CCAPS, using only the entrance CCAPS to predict the exit distress index. "
   ]
  },
  {
   "cell_type": "code",
   "execution_count": 17,
   "metadata": {},
   "outputs": [
    {
     "data": {
      "text/plain": [
       "Index(['CCAPSClientID', 'Date', 'CCAPS_01', 'CCAPS_03', 'CCAPS_04', 'CCAPS_05',\n",
       "       'CCAPS_06', 'CCAPS_08', 'CCAPS_09', 'CCAPS_10', 'CCAPS_11', 'CCAPS_13',\n",
       "       'CCAPS_14', 'CCAPS_15', 'CCAPS_16', 'CCAPS_17', 'CCAPS_18', 'CCAPS_19',\n",
       "       'CCAPS_21', 'CCAPS_22', 'CCAPS_23', 'CCAPS_24', 'CCAPS_25', 'CCAPS_26',\n",
       "       'CCAPS_27', 'CCAPS_28', 'CCAPS_29', 'CCAPS_30', 'CCAPS_31', 'CCAPS_32',\n",
       "       'CCAPS_33', 'CCAPS_34', 'CCAPS_35', 'CCAPS_36', 'CCAPS_37', 'CCAPS_38',\n",
       "       'CCAPS_39', 'CCAPS_40', 'CCAPS_41', 'CCAPS_43', 'CCAPS_44', 'CCAPS_45',\n",
       "       'CCAPS_46', 'CCAPS_47', 'CCAPS_48', 'CCAPS_49', 'CCAPS_50', 'CCAPS_51',\n",
       "       'CCAPS_52', 'CCAPS_53', 'CCAPS_54', 'CCAPS_56', 'CCAPS_57', 'CCAPS_58',\n",
       "       'CCAPS_59', 'CCAPS_60', 'CCAPS_61', 'CCAPS_63', 'CCAPS_64', 'CCAPS_65',\n",
       "       'CCAPS_66', 'CCAPS_68', 'CCAPS_69', 'CCAPS_70', 'Depression',\n",
       "       'Generalized_Anxiety', 'Social_Anxiety', 'Academic_Distress',\n",
       "       'Eating_Concerns', 'Frustration_Anger', 'Family_Distress',\n",
       "       'Substance_Use', 'Distress_Index', 'Thoughts_of_Hurting_Others',\n",
       "       'Suicide_Index', 'depression_low_cut', 'depression_high_cut',\n",
       "       'generalized_anxiety_low_cut', 'generalized_anxiety_high_cut',\n",
       "       'social_anxiety_low_cut', 'social_anxiety_high_cut',\n",
       "       'academic_distress_low_cut', 'academic_distress_high_cut',\n",
       "       'eating_concerns_low_cut', 'eating_concerns_high_cut',\n",
       "       'frustration_/Â anger_low_cut', 'frustration_/Â anger_high_cut',\n",
       "       'family_distress_low_cut', 'family_distress_high_cut',\n",
       "       'substance_use_low_cut', 'substance_use_high_cut',\n",
       "       'distress_index_low_cut', 'distress_index_high_cut'],\n",
       "      dtype='object')"
      ]
     },
     "execution_count": 17,
     "metadata": {},
     "output_type": "execute_result"
    }
   ],
   "source": [
    "ccaps_features = ccaps_features[0::2]\n",
    "#View columns to ensure all features are present.\n",
    "ccaps_features.columns"
   ]
  },
  {
   "cell_type": "code",
   "execution_count": 18,
   "metadata": {},
   "outputs": [],
   "source": [
    "#keep only the features. We will use all eight of these subscales as features even though CCAPS derives their Distress Index by only these five:  Depression, Gen Anx, Soc Anx, Academic Distress, and Frustration/Anger.\n",
    "ccaps_features = ccaps_features[['CCAPSClientID', 'Date', 'Depression', 'Generalized_Anxiety', 'Social_Anxiety', 'Academic_Distress', 'Eating_Concerns', 'Frustration_Anger', 'Family_Distress', 'Substance_Use', 'Thoughts_of_Hurting_Others', 'Suicide_Index']]"
   ]
  },
  {
   "cell_type": "code",
   "execution_count": 19,
   "metadata": {},
   "outputs": [
    {
     "data": {
      "text/html": [
       "<div>\n",
       "<style scoped>\n",
       "    .dataframe tbody tr th:only-of-type {\n",
       "        vertical-align: middle;\n",
       "    }\n",
       "\n",
       "    .dataframe tbody tr th {\n",
       "        vertical-align: top;\n",
       "    }\n",
       "\n",
       "    .dataframe thead th {\n",
       "        text-align: right;\n",
       "    }\n",
       "</style>\n",
       "<table border=\"1\" class=\"dataframe\">\n",
       "  <thead>\n",
       "    <tr style=\"text-align: right;\">\n",
       "      <th></th>\n",
       "      <th>CCAPSClientID</th>\n",
       "      <th>Date</th>\n",
       "      <th>Depression</th>\n",
       "      <th>Generalized_Anxiety</th>\n",
       "      <th>Social_Anxiety</th>\n",
       "      <th>Academic_Distress</th>\n",
       "      <th>Eating_Concerns</th>\n",
       "      <th>Frustration_Anger</th>\n",
       "      <th>Family_Distress</th>\n",
       "      <th>Substance_Use</th>\n",
       "      <th>Thoughts_of_Hurting_Others</th>\n",
       "      <th>Suicide_Index</th>\n",
       "    </tr>\n",
       "  </thead>\n",
       "  <tbody>\n",
       "    <tr>\n",
       "      <th>0</th>\n",
       "      <td>643590</td>\n",
       "      <td>8/25/2022 0:00</td>\n",
       "      <td>1.153846</td>\n",
       "      <td>2.888889</td>\n",
       "      <td>1.571429</td>\n",
       "      <td>1.6</td>\n",
       "      <td>0.888889</td>\n",
       "      <td>1.142857</td>\n",
       "      <td>1.666667</td>\n",
       "      <td>0.0</td>\n",
       "      <td>0.0</td>\n",
       "      <td>0.0</td>\n",
       "    </tr>\n",
       "    <tr>\n",
       "      <th>2</th>\n",
       "      <td>643635</td>\n",
       "      <td>8/23/2021 0:00</td>\n",
       "      <td>1.538462</td>\n",
       "      <td>2.555556</td>\n",
       "      <td>2.857143</td>\n",
       "      <td>0.6</td>\n",
       "      <td>0.111111</td>\n",
       "      <td>0.571429</td>\n",
       "      <td>0.000000</td>\n",
       "      <td>0.0</td>\n",
       "      <td>0.0</td>\n",
       "      <td>3.0</td>\n",
       "    </tr>\n",
       "    <tr>\n",
       "      <th>4</th>\n",
       "      <td>643635</td>\n",
       "      <td>9/29/2023 0:00</td>\n",
       "      <td>0.230769</td>\n",
       "      <td>0.777778</td>\n",
       "      <td>1.571429</td>\n",
       "      <td>0.4</td>\n",
       "      <td>0.222222</td>\n",
       "      <td>0.428571</td>\n",
       "      <td>0.000000</td>\n",
       "      <td>0.0</td>\n",
       "      <td>0.0</td>\n",
       "      <td>0.0</td>\n",
       "    </tr>\n",
       "    <tr>\n",
       "      <th>6</th>\n",
       "      <td>643635</td>\n",
       "      <td>1/18/2024 0:00</td>\n",
       "      <td>0.461538</td>\n",
       "      <td>0.666667</td>\n",
       "      <td>1.428571</td>\n",
       "      <td>0.0</td>\n",
       "      <td>0.222222</td>\n",
       "      <td>0.000000</td>\n",
       "      <td>0.000000</td>\n",
       "      <td>0.0</td>\n",
       "      <td>0.0</td>\n",
       "      <td>0.0</td>\n",
       "    </tr>\n",
       "    <tr>\n",
       "      <th>8</th>\n",
       "      <td>643679</td>\n",
       "      <td>8/23/2021 0:00</td>\n",
       "      <td>1.384615</td>\n",
       "      <td>1.777778</td>\n",
       "      <td>2.857143</td>\n",
       "      <td>0.2</td>\n",
       "      <td>2.888889</td>\n",
       "      <td>0.428571</td>\n",
       "      <td>2.833333</td>\n",
       "      <td>0.0</td>\n",
       "      <td>0.0</td>\n",
       "      <td>1.0</td>\n",
       "    </tr>\n",
       "    <tr>\n",
       "      <th>...</th>\n",
       "      <td>...</td>\n",
       "      <td>...</td>\n",
       "      <td>...</td>\n",
       "      <td>...</td>\n",
       "      <td>...</td>\n",
       "      <td>...</td>\n",
       "      <td>...</td>\n",
       "      <td>...</td>\n",
       "      <td>...</td>\n",
       "      <td>...</td>\n",
       "      <td>...</td>\n",
       "      <td>...</td>\n",
       "    </tr>\n",
       "    <tr>\n",
       "      <th>6101</th>\n",
       "      <td>1125446</td>\n",
       "      <td>4/12/2024 0:00</td>\n",
       "      <td>2.384615</td>\n",
       "      <td>2.000000</td>\n",
       "      <td>2.857143</td>\n",
       "      <td>1.0</td>\n",
       "      <td>1.222222</td>\n",
       "      <td>1.142857</td>\n",
       "      <td>1.833333</td>\n",
       "      <td>0.0</td>\n",
       "      <td>0.0</td>\n",
       "      <td>1.0</td>\n",
       "    </tr>\n",
       "    <tr>\n",
       "      <th>6105</th>\n",
       "      <td>1125461</td>\n",
       "      <td>4/12/2024 0:00</td>\n",
       "      <td>0.846154</td>\n",
       "      <td>2.111111</td>\n",
       "      <td>1.000000</td>\n",
       "      <td>0.8</td>\n",
       "      <td>0.111111</td>\n",
       "      <td>0.142857</td>\n",
       "      <td>0.000000</td>\n",
       "      <td>0.0</td>\n",
       "      <td>0.0</td>\n",
       "      <td>0.0</td>\n",
       "    </tr>\n",
       "    <tr>\n",
       "      <th>6109</th>\n",
       "      <td>1125838</td>\n",
       "      <td>4/15/2024 0:00</td>\n",
       "      <td>1.076923</td>\n",
       "      <td>1.222222</td>\n",
       "      <td>1.571429</td>\n",
       "      <td>2.8</td>\n",
       "      <td>1.222222</td>\n",
       "      <td>0.857143</td>\n",
       "      <td>1.166667</td>\n",
       "      <td>0.0</td>\n",
       "      <td>0.0</td>\n",
       "      <td>0.0</td>\n",
       "    </tr>\n",
       "    <tr>\n",
       "      <th>6111</th>\n",
       "      <td>1126127</td>\n",
       "      <td>4/15/2024 0:00</td>\n",
       "      <td>2.230769</td>\n",
       "      <td>2.333333</td>\n",
       "      <td>3.857143</td>\n",
       "      <td>0.8</td>\n",
       "      <td>1.555556</td>\n",
       "      <td>0.428571</td>\n",
       "      <td>1.333333</td>\n",
       "      <td>0.0</td>\n",
       "      <td>0.0</td>\n",
       "      <td>0.0</td>\n",
       "    </tr>\n",
       "    <tr>\n",
       "      <th>6118</th>\n",
       "      <td>1126590</td>\n",
       "      <td>4/16/2024 0:00</td>\n",
       "      <td>3.000000</td>\n",
       "      <td>2.000000</td>\n",
       "      <td>2.428571</td>\n",
       "      <td>3.2</td>\n",
       "      <td>1.444444</td>\n",
       "      <td>1.428571</td>\n",
       "      <td>2.666667</td>\n",
       "      <td>0.0</td>\n",
       "      <td>1.0</td>\n",
       "      <td>4.0</td>\n",
       "    </tr>\n",
       "  </tbody>\n",
       "</table>\n",
       "<p>1733 rows × 12 columns</p>\n",
       "</div>"
      ],
      "text/plain": [
       "      CCAPSClientID            Date  Depression  Generalized_Anxiety  \\\n",
       "0            643590  8/25/2022 0:00    1.153846             2.888889   \n",
       "2            643635  8/23/2021 0:00    1.538462             2.555556   \n",
       "4            643635  9/29/2023 0:00    0.230769             0.777778   \n",
       "6            643635  1/18/2024 0:00    0.461538             0.666667   \n",
       "8            643679  8/23/2021 0:00    1.384615             1.777778   \n",
       "...             ...             ...         ...                  ...   \n",
       "6101        1125446  4/12/2024 0:00    2.384615             2.000000   \n",
       "6105        1125461  4/12/2024 0:00    0.846154             2.111111   \n",
       "6109        1125838  4/15/2024 0:00    1.076923             1.222222   \n",
       "6111        1126127  4/15/2024 0:00    2.230769             2.333333   \n",
       "6118        1126590  4/16/2024 0:00    3.000000             2.000000   \n",
       "\n",
       "      Social_Anxiety  Academic_Distress  Eating_Concerns  Frustration_Anger  \\\n",
       "0           1.571429                1.6         0.888889           1.142857   \n",
       "2           2.857143                0.6         0.111111           0.571429   \n",
       "4           1.571429                0.4         0.222222           0.428571   \n",
       "6           1.428571                0.0         0.222222           0.000000   \n",
       "8           2.857143                0.2         2.888889           0.428571   \n",
       "...              ...                ...              ...                ...   \n",
       "6101        2.857143                1.0         1.222222           1.142857   \n",
       "6105        1.000000                0.8         0.111111           0.142857   \n",
       "6109        1.571429                2.8         1.222222           0.857143   \n",
       "6111        3.857143                0.8         1.555556           0.428571   \n",
       "6118        2.428571                3.2         1.444444           1.428571   \n",
       "\n",
       "      Family_Distress  Substance_Use  Thoughts_of_Hurting_Others  \\\n",
       "0            1.666667            0.0                         0.0   \n",
       "2            0.000000            0.0                         0.0   \n",
       "4            0.000000            0.0                         0.0   \n",
       "6            0.000000            0.0                         0.0   \n",
       "8            2.833333            0.0                         0.0   \n",
       "...               ...            ...                         ...   \n",
       "6101         1.833333            0.0                         0.0   \n",
       "6105         0.000000            0.0                         0.0   \n",
       "6109         1.166667            0.0                         0.0   \n",
       "6111         1.333333            0.0                         0.0   \n",
       "6118         2.666667            0.0                         1.0   \n",
       "\n",
       "      Suicide_Index  \n",
       "0               0.0  \n",
       "2               3.0  \n",
       "4               0.0  \n",
       "6               0.0  \n",
       "8               1.0  \n",
       "...             ...  \n",
       "6101            1.0  \n",
       "6105            0.0  \n",
       "6109            0.0  \n",
       "6111            0.0  \n",
       "6118            4.0  \n",
       "\n",
       "[1733 rows x 12 columns]"
      ]
     },
     "execution_count": 19,
     "metadata": {},
     "output_type": "execute_result"
    }
   ],
   "source": [
    "ccaps_features"
   ]
  },
  {
   "cell_type": "markdown",
   "metadata": {},
   "source": [
    "# Machine Learning"
   ]
  },
  {
   "cell_type": "code",
   "execution_count": 20,
   "metadata": {},
   "outputs": [],
   "source": [
    "# Setup matplotlib to plot inline (within the notebook)\n",
    "%matplotlib inline\n",
    "\n",
    "# Import the pyplot module of Matplotlib as plt\n",
    "import matplotlib.pyplot as plt\n",
    "\n",
    "# Import pandas under the abbreviation 'pd'\n",
    "import pandas as pd\n",
    "\n",
    "# Import NumPy under the abbreviation 'np'\n",
    "import numpy as np"
   ]
  },
  {
   "cell_type": "markdown",
   "metadata": {},
   "source": [
    "### Create X (features) and y (target)\n",
    "Create X (features).  ID numbers and date are excluded here because they are not Machine Learning (ML) features."
   ]
  },
  {
   "cell_type": "code",
   "execution_count": 21,
   "metadata": {},
   "outputs": [
    {
     "name": "stdout",
     "output_type": "stream",
     "text": [
      "   Depression  Generalized_Anxiety  Social_Anxiety  Academic_Distress  \\\n",
      "0    1.153846             2.888889        1.571429                1.6   \n",
      "2    1.538462             2.555556        2.857143                0.6   \n",
      "4    0.230769             0.777778        1.571429                0.4   \n",
      "6    0.461538             0.666667        1.428571                0.0   \n",
      "8    1.384615             1.777778        2.857143                0.2   \n",
      "\n",
      "   Eating_Concerns  Frustration_Anger  Family_Distress  Substance_Use  \\\n",
      "0         0.888889           1.142857         1.666667            0.0   \n",
      "2         0.111111           0.571429         0.000000            0.0   \n",
      "4         0.222222           0.428571         0.000000            0.0   \n",
      "6         0.222222           0.000000         0.000000            0.0   \n",
      "8         2.888889           0.428571         2.833333            0.0   \n",
      "\n",
      "   Thoughts_of_Hurting_Others  Suicide_Index  \n",
      "0                         0.0            0.0  \n",
      "2                         0.0            3.0  \n",
      "4                         0.0            0.0  \n",
      "6                         0.0            0.0  \n",
      "8                         0.0            1.0  \n",
      "Depression                    0\n",
      "Generalized_Anxiety           0\n",
      "Social_Anxiety                0\n",
      "Academic_Distress             0\n",
      "Eating_Concerns               0\n",
      "Frustration_Anger             0\n",
      "Family_Distress               0\n",
      "Substance_Use                 0\n",
      "Thoughts_of_Hurting_Others    1\n",
      "Suicide_Index                 2\n",
      "dtype: int64\n",
      "Depression                    0\n",
      "Generalized_Anxiety           0\n",
      "Social_Anxiety                0\n",
      "Academic_Distress             0\n",
      "Eating_Concerns               0\n",
      "Frustration_Anger             0\n",
      "Family_Distress               0\n",
      "Substance_Use                 0\n",
      "Thoughts_of_Hurting_Others    0\n",
      "Suicide_Index                 0\n",
      "dtype: int64\n",
      "0\n"
     ]
    }
   ],
   "source": [
    "# Create X.\n",
    "X = ccaps_features.iloc[:, 2:12]\n",
    "print(X.head())\n",
    "\n",
    "# Find null feature values (if any) and replace with zero.\n",
    "print(X.isna().sum())\n",
    "X = X.fillna(0)\n",
    "print(X.isna().sum())\n",
    "\n",
    "# Create y (outcomes).  \n",
    "y = target\n",
    "y = y.fillna('Moderate')\n",
    "print(y.isna().sum())"
   ]
  },
  {
   "cell_type": "markdown",
   "metadata": {},
   "source": [
    "### Train the Machine Learning Model"
   ]
  },
  {
   "cell_type": "code",
   "execution_count": 22,
   "metadata": {},
   "outputs": [],
   "source": [
    "# Import train_test_split from sklearn's model_selection module\n",
    "from sklearn.model_selection import train_test_split\n",
    "\n",
    "# Use train_test_split to split X & y into training and test sets.  This splits the .csv data into to sets:  80% of the data is used to train the model, and 20% of the data is used to test the model.\n",
    "X_train, X_test, y_train, y_test = train_test_split(X, y)"
   ]
  },
  {
   "cell_type": "code",
   "execution_count": 23,
   "metadata": {},
   "outputs": [
    {
     "data": {
      "text/plain": [
       "((1299, 10), (434, 10), (1299,), (434,))"
      ]
     },
     "execution_count": 23,
     "metadata": {},
     "output_type": "execute_result"
    }
   ],
   "source": [
    "# View the different shapes of the training and test datasets\n",
    "X_train.shape, X_test.shape, y_train.shape, y_test.shape"
   ]
  },
  {
   "cell_type": "code",
   "execution_count": 24,
   "metadata": {},
   "outputs": [],
   "source": [
    "# I ran several trials of Regression models without success (e.g., Linear Regression, Lasso, etc)."
   ]
  },
  {
   "cell_type": "markdown",
   "metadata": {},
   "source": [
    "##  Shifting Focus to Classification"
   ]
  },
  {
   "cell_type": "code",
   "execution_count": 25,
   "metadata": {},
   "outputs": [
    {
     "name": "stdout",
     "output_type": "stream",
     "text": [
      "original sample: Categories\n",
      "Low         1124\n",
      "Moderate     457\n",
      "High         152\n",
      "Name: count, dtype: int64\n",
      "proportion of Moderate or High: 0.08770917484131564\n",
      "proportion of Low: 0.6485862665897288\n",
      "proportion of Moderate: 0.2631275245239469\n"
     ]
    }
   ],
   "source": [
    "# Data Exploration:  Get counts and proportions of each category.\n",
    "print(f'original sample: {y.value_counts()}')\n",
    "print(f'proportion of Moderate or High: {152/1733}')\n",
    "print(f'proportion of Low: {1124/1733}')\n",
    "print(f'proportion of Moderate: {456/1733}')"
   ]
  },
  {
   "cell_type": "markdown",
   "metadata": {},
   "source": [
    "# SMOTE for imbalanced categories\n",
    "A Synthentic Minority Oversampling Technique (SMOTE) was used to generate synthetic data instances in order to balance data, the goal being to increase n for the \"High\" distress index category.  SMOTE is commonly used for data balancing."
   ]
  },
  {
   "cell_type": "code",
   "execution_count": 26,
   "metadata": {},
   "outputs": [],
   "source": [
    "#SMOTE for imbalanced distributions\n",
    "from imblearn.over_sampling import SMOTE\n",
    "\n",
    "#SMOTE proportional to distribution of original data on 5000 proposed data points\n",
    "d = {'High': 439, 'Low': 3243, 'Moderate': 1315}\n",
    "\n",
    "#One DataFrame with X and y\n",
    "exit_cats = pd.DataFrame(exit_DI['Categories'])\n",
    "testing_df = pd.concat([ccaps_features, exit_cats.set_index(ccaps_features.index)], axis=1)\n",
    "\n",
    "testing_df.head(20)\n",
    "\n",
    "X_res_2, y_res_2 = SMOTE(sampling_strategy = d, random_state=42).fit_resample(X, y)"
   ]
  },
  {
   "cell_type": "markdown",
   "metadata": {},
   "source": [
    "### Visualize the new category distribution"
   ]
  },
  {
   "cell_type": "code",
   "execution_count": 27,
   "metadata": {},
   "outputs": [
    {
     "data": {
      "image/png": "[encoded data removed]",
      "text/plain": [
       "<Figure size 1000x600 with 2 Axes>"
      ]
     },
     "metadata": {},
     "output_type": "display_data"
    }
   ],
   "source": [
    "fig, ax = plt.subplots(nrows=1, ncols=2, figsize=(10, 6))\n",
    "idx, c = np.unique(y, return_counts=True)\n",
    "idx2, c2 = np.unique(y_res_2, return_counts=True)\n",
    "sns.barplot(x=idx, y=c, ax=ax[0])\n",
    "plt.title('Oversampled using SMOTE')\n",
    "sns.barplot(x = idx2, y=c2, ax=ax[1])\n",
    "plt.show()"
   ]
  },
  {
   "cell_type": "code",
   "execution_count": 28,
   "metadata": {},
   "outputs": [],
   "source": [
    "# Split the proportional smoted data sets into train and test sets\n",
    "X_train_smote_prop, X_test_smote_prop, y_train_smote_prop, y_test_smote_prop = train_test_split(X_res_2, y_res_2)"
   ]
  },
  {
   "cell_type": "code",
   "execution_count": 29,
   "metadata": {},
   "outputs": [
    {
     "name": "stdout",
     "output_type": "stream",
     "text": [
      "(3747, 10) (1250, 10) (3747,) (1250,)\n",
      "(1299, 10) (434, 10) (1299,) (434,)\n"
     ]
    }
   ],
   "source": [
    "# View the different shapes of the training and test datasets\n",
    "print(X_train_smote_prop.shape, X_test_smote_prop.shape, y_train_smote_prop.shape, y_test_smote_prop.shape)\n",
    "\n",
    "#View the original training and test dataset shapes\n",
    "print(X_train.shape, X_test.shape, y_train.shape, y_test.shape)"
   ]
  },
  {
   "cell_type": "markdown",
   "metadata": {},
   "source": [
    "### Run a side-by-side comparison of different classifier models:"
   ]
  },
  {
   "cell_type": "code",
   "execution_count": 30,
   "metadata": {},
   "outputs": [],
   "source": [
    "# Import models\n",
    "from sklearn.svm import LinearSVC\n",
    "from sklearn.svm import SVC\n",
    "from sklearn.linear_model import LogisticRegression\n",
    "from sklearn.ensemble import RandomForestClassifier\n",
    "from sklearn.neighbors import KNeighborsClassifier\n",
    "\n",
    "# The models dictionary should contain 5 models\n",
    "models = {\"LinearSVC\": LinearSVC(dual=False),\n",
    "          \"KNeighborsClassifier\": KNeighborsClassifier(),\n",
    "          \"SVC\": SVC(),\n",
    "          \"LogisticRegression\": LogisticRegression(),\n",
    "          \"RandomForestClassifier\": RandomForestClassifier(class_weight='balanced')}\n",
    "\n",
    "# Create an empty dictionary called results\n",
    "results = {}"
   ]
  },
  {
   "cell_type": "markdown",
   "metadata": {},
   "source": [
    "Loop through the models dictionary items, fitting the model on the training data \n",
    "and appending the model name and model score (accuracy) on the test data to the results dictionary."
   ]
  },
  {
   "cell_type": "code",
   "execution_count": 31,
   "metadata": {},
   "outputs": [
    {
     "data": {
      "text/plain": [
       "{'LinearSVC': 0.6944,\n",
       " 'KNeighborsClassifier': 0.864,\n",
       " 'SVC': 0.7456,\n",
       " 'LogisticRegression': 0.7104,\n",
       " 'RandomForestClassifier': 0.8848}"
      ]
     },
     "execution_count": 31,
     "metadata": {},
     "output_type": "execute_result"
    }
   ],
   "source": [
    "np.random.seed(42)\n",
    "\n",
    "for model_name, model in models.items():\n",
    "    model.fit(X_train_smote_prop, y_train_smote_prop)\n",
    "    results[model_name] = model.score(X_test_smote_prop, y_test_smote_prop)\n",
    "    \n",
    "results"
   ]
  },
  {
   "cell_type": "markdown",
   "metadata": {},
   "source": [
    "Create a pandas dataframe with the data being the values of the results dictionary, the index as the keys of the results dictionary, and a single column called 'Accuracy.' Save the dataframe to a variable."
   ]
  },
  {
   "cell_type": "code",
   "execution_count": 32,
   "metadata": {},
   "outputs": [
    {
     "name": "stdout",
     "output_type": "stream",
     "text": [
      "The most accurate model is: RandomForestClassifier()\n",
      "                        Accuracy\n",
      "LinearSVC                 0.6944\n",
      "KNeighborsClassifier      0.8640\n",
      "SVC                       0.7456\n",
      "LogisticRegression        0.7104\n",
      "RandomForestClassifier    0.8848\n"
     ]
    },
    {
     "data": {
      "image/png": "[encoded data removed]",
      "text/plain": [
       "<Figure size 640x480 with 1 Axes>"
      ]
     },
     "metadata": {},
     "output_type": "display_data"
    }
   ],
   "source": [
    "best_estimator = eval(max(results, key=results.get) + \"()\")\n",
    "print(\"The most accurate model is: \" + str(best_estimator))\n",
    "\n",
    "results_df = pd.DataFrame(results.values(), \n",
    "                          results.keys(), \n",
    "                          columns=[\"Accuracy\"])\n",
    "\n",
    "print(results_df)\n",
    "\n",
    "# Create a bar plot of the results dataframe using plot.bar()\n",
    "ax = results_df.plot.bar()\n",
    "plt.ylim(0.0, 1.0);"
   ]
  },
  {
   "cell_type": "markdown",
   "metadata": {},
   "source": [
    "## Hyperparameter Tuning\n",
    "Each classification model contains various parameters that can be tuned to improve the model's accuracy."
   ]
  },
  {
   "cell_type": "code",
   "execution_count": 33,
   "metadata": {},
   "outputs": [
    {
     "data": {
      "text/plain": [
       "{'bootstrap': True,\n",
       " 'ccp_alpha': 0.0,\n",
       " 'class_weight': None,\n",
       " 'criterion': 'gini',\n",
       " 'max_depth': None,\n",
       " 'max_features': 'sqrt',\n",
       " 'max_leaf_nodes': None,\n",
       " 'max_samples': None,\n",
       " 'min_impurity_decrease': 0.0,\n",
       " 'min_samples_leaf': 1,\n",
       " 'min_samples_split': 2,\n",
       " 'min_weight_fraction_leaf': 0.0,\n",
       " 'monotonic_cst': None,\n",
       " 'n_estimators': 100,\n",
       " 'n_jobs': None,\n",
       " 'oob_score': False,\n",
       " 'random_state': None,\n",
       " 'verbose': 0,\n",
       " 'warm_start': False}"
      ]
     },
     "execution_count": 33,
     "metadata": {},
     "output_type": "execute_result"
    }
   ],
   "source": [
    "rfc = best_estimator\n",
    "\n",
    "# List the parameters of the best estimator\n",
    "rfc.get_params()"
   ]
  },
  {
   "cell_type": "code",
   "execution_count": 34,
   "metadata": {},
   "outputs": [],
   "source": [
    "# Import RandomizedSearchCV from sklearn's model_selection module\n",
    "from sklearn.model_selection import RandomizedSearchCV"
   ]
  },
  {
   "cell_type": "markdown",
   "metadata": {},
   "source": [
    "### RandomForestClassifier best parameter search"
   ]
  },
  {
   "cell_type": "code",
   "execution_count": 35,
   "metadata": {},
   "outputs": [
    {
     "name": "stdout",
     "output_type": "stream",
     "text": [
      "{'n_estimators': [200, 400, 600, 800, 1000, 1200, 1400, 1600, 1800, 2000], 'max_features': ['auto', 'sqrt'], 'max_depth': [10, 20, 30, 40, 50, 60, 70, 80, 90, 100, 110, None], 'min_samples_split': [2, 5, 10], 'min_samples_leaf': [1, 2, 4], 'bootstrap': [True, False]}\n"
     ]
    }
   ],
   "source": [
    "#Provide wide range of options for parameters for RandomForestClassifier\n",
    "# Number of trees in random forest\n",
    "n_estimators = [int(x) for x in np.linspace(start = 200, stop = 2000, num = 10)]\n",
    "# Number of features to consider at every split\n",
    "max_features = ['auto', 'sqrt']\n",
    "# Maximum number of levels in tree\n",
    "max_depth = [int(x) for x in np.linspace(10, 110, num = 11)]\n",
    "max_depth.append(None)\n",
    "# Minimum number of samples required to split a node\n",
    "min_samples_split = [2, 5, 10]\n",
    "# Minimum number of samples required at each leaf node\n",
    "min_samples_leaf = [1, 2, 4]\n",
    "# Method of selecting samples for training each tree\n",
    "bootstrap = [True, False]# Create the random grid\n",
    "random_grid = {'n_estimators': n_estimators,\n",
    "               'max_features': max_features,\n",
    "               'max_depth': max_depth,\n",
    "               'min_samples_split': min_samples_split,\n",
    "               'min_samples_leaf': min_samples_leaf,\n",
    "               'bootstrap': bootstrap}\n",
    "print(random_grid)"
   ]
  },
  {
   "cell_type": "markdown",
   "metadata": {},
   "source": [
    "###  Linear SVC best parameter search"
   ]
  },
  {
   "cell_type": "code",
   "execution_count": 36,
   "metadata": {},
   "outputs": [],
   "source": [
    "# Provide wide number of options for parameters for Linear SVC\n",
    "#These are the parameters chosen to iterate through.\n",
    "\n",
    "C = [0.001, 0.01, 0.1, 1, 10]\n",
    "fit_intercept = [True, False]\n",
    "class_weight = [None, 'balanced']\n",
    "random_state = [42]\n",
    "\n",
    "svc_grid = {'C' : C,\n",
    "            'fit_intercept': fit_intercept,\n",
    "            'class_weight': class_weight,\n",
    "            'random_state': random_state}\n",
    "\n",
    "\n",
    "\n"
   ]
  },
  {
   "cell_type": "markdown",
   "metadata": {},
   "source": [
    "###  kNN best parameter search"
   ]
  },
  {
   "cell_type": "code",
   "execution_count": 37,
   "metadata": {},
   "outputs": [],
   "source": [
    "#provide wide number of options for parameters for kNN\n",
    "\n",
    "n_neighbors = [x for x in range(3,10)]\n",
    "weights = ['uniform', 'distance']\n",
    "algorithm = ['ball_tree', 'kd_tree', 'brute', 'auto']\n",
    "leaf_size = [x for x in range(10, 110, 10)]\n",
    "\n",
    "knn_grid = {'n_neighbors': n_neighbors,\n",
    "            'weights': weights,\n",
    "            'algorithm': algorithm,\n",
    "            'leaf_size': leaf_size}"
   ]
  },
  {
   "cell_type": "markdown",
   "metadata": {},
   "source": [
    "### SVC best parameter search"
   ]
  },
  {
   "cell_type": "code",
   "execution_count": 38,
   "metadata": {},
   "outputs": [],
   "source": [
    "#provide wide number of options for parameters for SVC\n",
    "\n",
    "C = [0.001, 0.01, 0.1, 1, 10]\n",
    "kernel = ['linear', 'poly', 'rbf', 'sigmoid']\n",
    "degree = [x for x in range(3, 10)]\n",
    "gamma = ['scale', 'auto']\n",
    "class_weight = ['balanced', None]\n",
    "random_state = [42]\n",
    "\n",
    "svc_grid = {'C': C,\n",
    "            'kernel': kernel,\n",
    "            'degree': degree,\n",
    "            'gamma': gamma,\n",
    "            'class_weight': class_weight,\n",
    "            'random_state': random_state}\n"
   ]
  },
  {
   "cell_type": "markdown",
   "metadata": {},
   "source": [
    "### Logistic Regression best parameter search"
   ]
  },
  {
   "cell_type": "code",
   "execution_count": 39,
   "metadata": {},
   "outputs": [],
   "source": [
    "#provide wide number of options for parameters for Logistic Regression\n",
    "\n",
    "C = [0.001, 0.01, 0.1, 1, 10]\n",
    "fit_intercept = [True, False]\n",
    "class_weight = [None, 'balanced']\n",
    "random_state = [42]\n",
    "solver = ['liblinear', 'newton-cg', 'sag', 'saga', 'lbfgs']\n",
    "\n",
    "logistic_grid = {'C': C,\n",
    "                 'fit_intercept': fit_intercept,\n",
    "                 'class_weight': class_weight,\n",
    "                 'random_state': random_state,\n",
    "                 'solver': solver}"
   ]
  },
  {
   "cell_type": "code",
   "execution_count": 40,
   "metadata": {},
   "outputs": [
    {
     "name": "stdout",
     "output_type": "stream",
     "text": [
      "<class 'sklearn.ensemble._forest.RandomForestClassifier'>\n"
     ]
    }
   ],
   "source": [
    "param_grid = 0\n",
    "\n",
    "print(type(best_estimator))\n",
    "if str(best_estimator) == 'LogisticRegression()':\n",
    "    param_grid = logistic_grid\n",
    "elif str(best_estimator) == 'KNeighborsClassifier()':\n",
    "    param_grid = knn_grid\n",
    "elif str(best_estimator) == 'LinearSVC()':\n",
    "    param_grid = linear_grid\n",
    "elif str(best_estimator) == 'SVC()':\n",
    "    param_grid = svc_grid\n",
    "elif str(best_estimator) == 'RandomForestClassifier()':\n",
    "    param_grid = random_grid\n"
   ]
  },
  {
   "cell_type": "markdown",
   "metadata": {},
   "source": [
    "### Use the random grid to search for best hyperparameters"
   ]
  },
  {
   "cell_type": "code",
   "execution_count": 41,
   "metadata": {},
   "outputs": [
    {
     "name": "stdout",
     "output_type": "stream",
     "text": [
      "Fitting 3 folds for each of 25 candidates, totalling 75 fits\n"
     ]
    },
    {
     "name": "stderr",
     "output_type": "stream",
     "text": [
      "C:\\Users\\JCross\\Desktop\\CCAPS_ML\\env\\Lib\\site-packages\\sklearn\\model_selection\\_validation.py:547: FitFailedWarning: \n",
      "45 fits failed out of a total of 75.\n",
      "The score on these train-test partitions for these parameters will be set to nan.\n",
      "If these failures are not expected, you can try to debug them by setting error_score='raise'.\n",
      "\n",
      "Below are more details about the failures:\n",
      "--------------------------------------------------------------------------------\n",
      "32 fits failed with the following error:\n",
      "Traceback (most recent call last):\n",
      "  File \"C:\\Users\\JCross\\Desktop\\CCAPS_ML\\env\\Lib\\site-packages\\sklearn\\model_selection\\_validation.py\", line 895, in _fit_and_score\n",
      "    estimator.fit(X_train, y_train, **fit_params)\n",
      "  File \"C:\\Users\\JCross\\Desktop\\CCAPS_ML\\env\\Lib\\site-packages\\sklearn\\base.py\", line 1467, in wrapper\n",
      "    estimator._validate_params()\n",
      "  File \"C:\\Users\\JCross\\Desktop\\CCAPS_ML\\env\\Lib\\site-packages\\sklearn\\base.py\", line 666, in _validate_params\n",
      "    validate_parameter_constraints(\n",
      "  File \"C:\\Users\\JCross\\Desktop\\CCAPS_ML\\env\\Lib\\site-packages\\sklearn\\utils\\_param_validation.py\", line 95, in validate_parameter_constraints\n",
      "    raise InvalidParameterError(\n",
      "sklearn.utils._param_validation.InvalidParameterError: The 'max_features' parameter of RandomForestClassifier must be an int in the range [1, inf), a float in the range (0.0, 1.0], a str among {'sqrt', 'log2'} or None. Got 'auto' instead.\n",
      "\n",
      "--------------------------------------------------------------------------------\n",
      "13 fits failed with the following error:\n",
      "Traceback (most recent call last):\n",
      "  File \"C:\\Users\\JCross\\Desktop\\CCAPS_ML\\env\\Lib\\site-packages\\sklearn\\model_selection\\_validation.py\", line 895, in _fit_and_score\n",
      "    estimator.fit(X_train, y_train, **fit_params)\n",
      "  File \"C:\\Users\\JCross\\Desktop\\CCAPS_ML\\env\\Lib\\site-packages\\sklearn\\base.py\", line 1467, in wrapper\n",
      "    estimator._validate_params()\n",
      "  File \"C:\\Users\\JCross\\Desktop\\CCAPS_ML\\env\\Lib\\site-packages\\sklearn\\base.py\", line 666, in _validate_params\n",
      "    validate_parameter_constraints(\n",
      "  File \"C:\\Users\\JCross\\Desktop\\CCAPS_ML\\env\\Lib\\site-packages\\sklearn\\utils\\_param_validation.py\", line 95, in validate_parameter_constraints\n",
      "    raise InvalidParameterError(\n",
      "sklearn.utils._param_validation.InvalidParameterError: The 'max_features' parameter of RandomForestClassifier must be an int in the range [1, inf), a float in the range (0.0, 1.0], a str among {'log2', 'sqrt'} or None. Got 'auto' instead.\n",
      "\n",
      "  warnings.warn(some_fits_failed_message, FitFailedWarning)\n",
      "C:\\Users\\JCross\\Desktop\\CCAPS_ML\\env\\Lib\\site-packages\\sklearn\\model_selection\\_search.py:1051: UserWarning: One or more of the test scores are non-finite: [0.81451828 0.82759541        nan 0.84093942        nan 0.84147318\n",
      "        nan 0.80170803        nan        nan        nan 0.86389111\n",
      " 0.84067254 0.83613558 0.83213237        nan 0.82119029        nan\n",
      "        nan        nan        nan        nan        nan        nan\n",
      "        nan]\n",
      "  warnings.warn(\n"
     ]
    }
   ],
   "source": [
    "# First create the base model to tune\n",
    "best_estimator = best_estimator\n",
    "# Random search of parameters, using 3 fold cross validation; \n",
    "# search across 100 different combinations, and use all available cores\n",
    "tuning = RandomizedSearchCV(estimator = best_estimator, param_distributions = param_grid, n_iter = 25, cv = 3, verbose=2, random_state=42, n_jobs = -1)# Fit the random search model\n",
    "search = tuning.fit(X_train_smote_prop, y_train_smote_prop)"
   ]
  },
  {
   "cell_type": "code",
   "execution_count": 42,
   "metadata": {},
   "outputs": [
    {
     "data": {
      "text/plain": [
       "{'n_estimators': 800,\n",
       " 'min_samples_split': 2,\n",
       " 'min_samples_leaf': 1,\n",
       " 'max_features': 'sqrt',\n",
       " 'max_depth': 20,\n",
       " 'bootstrap': False}"
      ]
     },
     "execution_count": 42,
     "metadata": {},
     "output_type": "execute_result"
    }
   ],
   "source": [
    "#show the best parameters found:\n",
    "best_params = search.best_params_\n",
    "best_params"
   ]
  },
  {
   "cell_type": "code",
   "execution_count": 43,
   "metadata": {},
   "outputs": [],
   "source": [
    "#Evaluate these params compared to base params\n",
    "# Import confusion_matrix and classification_report from sklearn's metrics module\n",
    "from sklearn.metrics import confusion_matrix, classification_report\n",
    "\n",
    "# Import precision_score, recall_score and f1_score from sklearn's metrics module\n",
    "from sklearn.metrics import accuracy_score, precision_score, recall_score, f1_score"
   ]
  },
  {
   "cell_type": "markdown",
   "metadata": {},
   "source": [
    "### Make predictions on test data with base model and store the predictions"
   ]
  },
  {
   "cell_type": "code",
   "execution_count": 44,
   "metadata": {},
   "outputs": [],
   "source": [
    "rfc = RandomForestClassifier()\n",
    "rfc.fit(X_train_smote_prop, y_train_smote_prop)\n",
    "y_preds_smote_prop = rfc.predict(X_test)"
   ]
  },
  {
   "cell_type": "code",
   "execution_count": 45,
   "metadata": {},
   "outputs": [
    {
     "data": {
      "text/plain": [
       "array([[ 41,   1,   2],\n",
       "       [  2, 263,   0],\n",
       "       [  2,  11, 112]], dtype=int64)"
      ]
     },
     "execution_count": 45,
     "metadata": {},
     "output_type": "execute_result"
    }
   ],
   "source": [
    "# Create a confusion matrix using the confusion_matrix function\n",
    "confusion_matrix(y_test, y_preds_smote_prop)"
   ]
  },
  {
   "cell_type": "code",
   "execution_count": 46,
   "metadata": {},
   "outputs": [
    {
     "data": {
      "image/png": "[encoded data removed]",
      "text/plain": [
       "<Figure size 300x300 with 1 Axes>"
      ]
     },
     "metadata": {},
     "output_type": "display_data"
    }
   ],
   "source": [
    "# Import seaborn for improving visualisation of confusion matrix\n",
    "import matplotlib.pyplot as plt\n",
    "import seaborn as sns\n",
    "\n",
    "# Make confusion matrix more visual\n",
    "def plot_conf_mat(y_test, y_preds):\n",
    "    \"\"\"\n",
    "    Plots a confusion matrix using Seaborn's heatmap().\n",
    "    \"\"\"\n",
    "    fig, ax = plt.subplots(figsize=(3, 3))\n",
    "    ax = sns.heatmap(confusion_matrix(y_test, y_preds),\n",
    "                     annot=True, # Annotate the boxes\n",
    "                     cbar=False)\n",
    "    plt.xlabel(\"True label\")\n",
    "    plt.ylabel(\"Predicted label\")\n",
    "    \n",
    "    # Fix the broken annotations (this happened in Matplotlib 3.1.1)\n",
    "    bottom, top = ax.get_ylim()\n",
    "    ax.set_ylim(bottom + 0.5, top - 0.5);\n",
    "    \n",
    "plot_conf_mat(y_test, y_preds_smote_prop)\n",
    "plt.show()"
   ]
  },
  {
   "cell_type": "code",
   "execution_count": 47,
   "metadata": {},
   "outputs": [
    {
     "name": "stdout",
     "output_type": "stream",
     "text": [
      "              precision    recall  f1-score   support\n",
      "\n",
      "        High       0.91      0.93      0.92        44\n",
      "         Low       0.96      0.99      0.97       265\n",
      "    Moderate       0.98      0.90      0.94       125\n",
      "\n",
      "    accuracy                           0.96       434\n",
      "   macro avg       0.95      0.94      0.94       434\n",
      "weighted avg       0.96      0.96      0.96       434\n",
      "\n"
     ]
    }
   ],
   "source": [
    "# classification report\n",
    "print(classification_report(y_test, y_preds_smote_prop))"
   ]
  },
  {
   "cell_type": "markdown",
   "metadata": {},
   "source": [
    "Precision - Indicates the proportion of positive identifications (model predicted class 1) which were actually correct. A model which produces no false positives has a precision of 1.0.\n",
    "\n",
    "Recall - Indicates the proportion of actual positives which were correctly classified. A model which produces no false negatives has a recall of 1.0.\n",
    "\n",
    "F1 score - A combination of precision and recall. A perfect model achieves an F1 score of 1.0.\n",
    "\n",
    "Support - The number of samples each metric was calculated on.\n",
    "\n",
    "Accuracy - The accuracy of the model in decimal form. Perfect accuracy is equal to 1.0.\n",
    "\n",
    "Macro avg - Short for macro average, the average precision, recall and F1 score between classes. Macro avg doesn’t class imbalance into effort, so if you do have class imbalances, pay attention to this metric.\n",
    "\n",
    "Weighted avg - Short for weighted average, the weighted average precision, recall and F1 score between classes. Weighted means each metric is calculated with respect to how many samples there are in each class. This metric will favour the majority class (e.g. will give a high value when one class out performs another due to having more samples).\n"
   ]
  },
  {
   "cell_type": "markdown",
   "metadata": {},
   "source": [
    "### Cross-Validation Score"
   ]
  },
  {
   "cell_type": "code",
   "execution_count": 48,
   "metadata": {},
   "outputs": [],
   "source": [
    "# Import cross_val_score from sklearn's model_selection module\n",
    "from sklearn.model_selection import cross_val_score"
   ]
  },
  {
   "cell_type": "code",
   "execution_count": 49,
   "metadata": {},
   "outputs": [
    {
     "data": {
      "text/plain": [
       "array([0.852     , 0.866     , 0.91191191, 0.93893894, 0.92592593])"
      ]
     },
     "execution_count": 49,
     "metadata": {},
     "output_type": "execute_result"
    }
   ],
   "source": [
    "cross_val_score(rfc, \n",
    "                X_res_2, \n",
    "                y_res_2, \n",
    "                scoring=\"accuracy\",\n",
    "                cv=5)"
   ]
  },
  {
   "cell_type": "markdown",
   "metadata": {},
   "source": [
    "### Taking the mean of the returned values from cross_val_score gives a cross-validated version of the scoring metric."
   ]
  },
  {
   "cell_type": "code",
   "execution_count": 50,
   "metadata": {},
   "outputs": [
    {
     "data": {
      "text/plain": [
       "0.8981537537537537"
      ]
     },
     "execution_count": 50,
     "metadata": {},
     "output_type": "execute_result"
    }
   ],
   "source": [
    "cross_val_acc_rfc = np.mean(cross_val_score(rfc,\n",
    "                                        X_res_2,\n",
    "                                        y_res_2,\n",
    "                                        scoring=\"accuracy\",\n",
    "                                        cv=5))\n",
    "\n",
    "cross_val_acc_rfc"
   ]
  },
  {
   "cell_type": "code",
   "execution_count": 51,
   "metadata": {},
   "outputs": [
    {
     "data": {
      "text/plain": [
       "{'n_estimators': 800,\n",
       " 'min_samples_split': 2,\n",
       " 'min_samples_leaf': 1,\n",
       " 'max_features': 'sqrt',\n",
       " 'max_depth': 20,\n",
       " 'bootstrap': False}"
      ]
     },
     "execution_count": 51,
     "metadata": {},
     "output_type": "execute_result"
    }
   ],
   "source": [
    "best_params"
   ]
  },
  {
   "cell_type": "code",
   "execution_count": 52,
   "metadata": {},
   "outputs": [],
   "source": [
    "#Evaluating model with tuned parameters:\n",
    "rfc = RandomForestClassifier(n_estimators = 800,\n",
    "                            min_samples_split = 2,\n",
    "                            min_samples_leaf = 1,\n",
    "                            max_features = 'sqrt',\n",
    "                            max_depth = 20,\n",
    "                            bootstrap = False)"
   ]
  },
  {
   "cell_type": "markdown",
   "metadata": {},
   "source": [
    "### Fit the tuned model on the SMOTEd datasets"
   ]
  },
  {
   "cell_type": "code",
   "execution_count": 53,
   "metadata": {},
   "outputs": [
    {
     "data": {
      "text/html": [
       "<style>#sk-container-id-1 {\n",
       "  /* Definition of color scheme common for light and dark mode */\n",
       "  --sklearn-color-text: black;\n",
       "  --sklearn-color-line: gray;\n",
       "  /* Definition of color scheme for unfitted estimators */\n",
       "  --sklearn-color-unfitted-level-0: #fff5e6;\n",
       "  --sklearn-color-unfitted-level-1: #f6e4d2;\n",
       "  --sklearn-color-unfitted-level-2: #ffe0b3;\n",
       "  --sklearn-color-unfitted-level-3: chocolate;\n",
       "  /* Definition of color scheme for fitted estimators */\n",
       "  --sklearn-color-fitted-level-0: #f0f8ff;\n",
       "  --sklearn-color-fitted-level-1: #d4ebff;\n",
       "  --sklearn-color-fitted-level-2: #b3dbfd;\n",
       "  --sklearn-color-fitted-level-3: cornflowerblue;\n",
       "\n",
       "  /* Specific color for light theme */\n",
       "  --sklearn-color-text-on-default-background: var(--sg-text-color, var(--theme-code-foreground, var(--jp-content-font-color1, black)));\n",
       "  --sklearn-color-background: var(--sg-background-color, var(--theme-background, var(--jp-layout-color0, white)));\n",
       "  --sklearn-color-border-box: var(--sg-text-color, var(--theme-code-foreground, var(--jp-content-font-color1, black)));\n",
       "  --sklearn-color-icon: #696969;\n",
       "\n",
       "  @media (prefers-color-scheme: dark) {\n",
       "    /* Redefinition of color scheme for dark theme */\n",
       "    --sklearn-color-text-on-default-background: var(--sg-text-color, var(--theme-code-foreground, var(--jp-content-font-color1, white)));\n",
       "    --sklearn-color-background: var(--sg-background-color, var(--theme-background, var(--jp-layout-color0, #111)));\n",
       "    --sklearn-color-border-box: var(--sg-text-color, var(--theme-code-foreground, var(--jp-content-font-color1, white)));\n",
       "    --sklearn-color-icon: #878787;\n",
       "  }\n",
       "}\n",
       "\n",
       "#sk-container-id-1 {\n",
       "  color: var(--sklearn-color-text);\n",
       "}\n",
       "\n",
       "#sk-container-id-1 pre {\n",
       "  padding: 0;\n",
       "}\n",
       "\n",
       "#sk-container-id-1 input.sk-hidden--visually {\n",
       "  border: 0;\n",
       "  clip: rect(1px 1px 1px 1px);\n",
       "  clip: rect(1px, 1px, 1px, 1px);\n",
       "  height: 1px;\n",
       "  margin: -1px;\n",
       "  overflow: hidden;\n",
       "  padding: 0;\n",
       "  position: absolute;\n",
       "  width: 1px;\n",
       "}\n",
       "\n",
       "#sk-container-id-1 div.sk-dashed-wrapped {\n",
       "  border: 1px dashed var(--sklearn-color-line);\n",
       "  margin: 0 0.4em 0.5em 0.4em;\n",
       "  box-sizing: border-box;\n",
       "  padding-bottom: 0.4em;\n",
       "  background-color: var(--sklearn-color-background);\n",
       "}\n",
       "\n",
       "#sk-container-id-1 div.sk-container {\n",
       "  /* jupyter's `normalize.less` sets `[hidden] { display: none; }`\n",
       "     but bootstrap.min.css set `[hidden] { display: none !important; }`\n",
       "     so we also need the `!important` here to be able to override the\n",
       "     default hidden behavior on the sphinx rendered scikit-learn.org.\n",
       "     See: https://github.com/scikit-learn/scikit-learn/issues/21755 */\n",
       "  display: inline-block !important;\n",
       "  position: relative;\n",
       "}\n",
       "\n",
       "#sk-container-id-1 div.sk-text-repr-fallback {\n",
       "  display: none;\n",
       "}\n",
       "\n",
       "div.sk-parallel-item,\n",
       "div.sk-serial,\n",
       "div.sk-item {\n",
       "  /* draw centered vertical line to link estimators */\n",
       "  background-image: linear-gradient(var(--sklearn-color-text-on-default-background), var(--sklearn-color-text-on-default-background));\n",
       "  background-size: 2px 100%;\n",
       "  background-repeat: no-repeat;\n",
       "  background-position: center center;\n",
       "}\n",
       "\n",
       "/* Parallel-specific style estimator block */\n",
       "\n",
       "#sk-container-id-1 div.sk-parallel-item::after {\n",
       "  content: \"\";\n",
       "  width: 100%;\n",
       "  border-bottom: 2px solid var(--sklearn-color-text-on-default-background);\n",
       "  flex-grow: 1;\n",
       "}\n",
       "\n",
       "#sk-container-id-1 div.sk-parallel {\n",
       "  display: flex;\n",
       "  align-items: stretch;\n",
       "  justify-content: center;\n",
       "  background-color: var(--sklearn-color-background);\n",
       "  position: relative;\n",
       "}\n",
       "\n",
       "#sk-container-id-1 div.sk-parallel-item {\n",
       "  display: flex;\n",
       "  flex-direction: column;\n",
       "}\n",
       "\n",
       "#sk-container-id-1 div.sk-parallel-item:first-child::after {\n",
       "  align-self: flex-end;\n",
       "  width: 50%;\n",
       "}\n",
       "\n",
       "#sk-container-id-1 div.sk-parallel-item:last-child::after {\n",
       "  align-self: flex-start;\n",
       "  width: 50%;\n",
       "}\n",
       "\n",
       "#sk-container-id-1 div.sk-parallel-item:only-child::after {\n",
       "  width: 0;\n",
       "}\n",
       "\n",
       "/* Serial-specific style estimator block */\n",
       "\n",
       "#sk-container-id-1 div.sk-serial {\n",
       "  display: flex;\n",
       "  flex-direction: column;\n",
       "  align-items: center;\n",
       "  background-color: var(--sklearn-color-background);\n",
       "  padding-right: 1em;\n",
       "  padding-left: 1em;\n",
       "}\n",
       "\n",
       "\n",
       "/* Toggleable style: style used for estimator/Pipeline/ColumnTransformer box that is\n",
       "clickable and can be expanded/collapsed.\n",
       "- Pipeline and ColumnTransformer use this feature and define the default style\n",
       "- Estimators will overwrite some part of the style using the `sk-estimator` class\n",
       "*/\n",
       "\n",
       "/* Pipeline and ColumnTransformer style (default) */\n",
       "\n",
       "#sk-container-id-1 div.sk-toggleable {\n",
       "  /* Default theme specific background. It is overwritten whether we have a\n",
       "  specific estimator or a Pipeline/ColumnTransformer */\n",
       "  background-color: var(--sklearn-color-background);\n",
       "}\n",
       "\n",
       "/* Toggleable label */\n",
       "#sk-container-id-1 label.sk-toggleable__label {\n",
       "  cursor: pointer;\n",
       "  display: block;\n",
       "  width: 100%;\n",
       "  margin-bottom: 0;\n",
       "  padding: 0.5em;\n",
       "  box-sizing: border-box;\n",
       "  text-align: center;\n",
       "}\n",
       "\n",
       "#sk-container-id-1 label.sk-toggleable__label-arrow:before {\n",
       "  /* Arrow on the left of the label */\n",
       "  content: \"▸\";\n",
       "  float: left;\n",
       "  margin-right: 0.25em;\n",
       "  color: var(--sklearn-color-icon);\n",
       "}\n",
       "\n",
       "#sk-container-id-1 label.sk-toggleable__label-arrow:hover:before {\n",
       "  color: var(--sklearn-color-text);\n",
       "}\n",
       "\n",
       "/* Toggleable content - dropdown */\n",
       "\n",
       "#sk-container-id-1 div.sk-toggleable__content {\n",
       "  max-height: 0;\n",
       "  max-width: 0;\n",
       "  overflow: hidden;\n",
       "  text-align: left;\n",
       "  /* unfitted */\n",
       "  background-color: var(--sklearn-color-unfitted-level-0);\n",
       "}\n",
       "\n",
       "#sk-container-id-1 div.sk-toggleable__content.fitted {\n",
       "  /* fitted */\n",
       "  background-color: var(--sklearn-color-fitted-level-0);\n",
       "}\n",
       "\n",
       "#sk-container-id-1 div.sk-toggleable__content pre {\n",
       "  margin: 0.2em;\n",
       "  border-radius: 0.25em;\n",
       "  color: var(--sklearn-color-text);\n",
       "  /* unfitted */\n",
       "  background-color: var(--sklearn-color-unfitted-level-0);\n",
       "}\n",
       "\n",
       "#sk-container-id-1 div.sk-toggleable__content.fitted pre {\n",
       "  /* unfitted */\n",
       "  background-color: var(--sklearn-color-fitted-level-0);\n",
       "}\n",
       "\n",
       "#sk-container-id-1 input.sk-toggleable__control:checked~div.sk-toggleable__content {\n",
       "  /* Expand drop-down */\n",
       "  max-height: 200px;\n",
       "  max-width: 100%;\n",
       "  overflow: auto;\n",
       "}\n",
       "\n",
       "#sk-container-id-1 input.sk-toggleable__control:checked~label.sk-toggleable__label-arrow:before {\n",
       "  content: \"▾\";\n",
       "}\n",
       "\n",
       "/* Pipeline/ColumnTransformer-specific style */\n",
       "\n",
       "#sk-container-id-1 div.sk-label input.sk-toggleable__control:checked~label.sk-toggleable__label {\n",
       "  color: var(--sklearn-color-text);\n",
       "  background-color: var(--sklearn-color-unfitted-level-2);\n",
       "}\n",
       "\n",
       "#sk-container-id-1 div.sk-label.fitted input.sk-toggleable__control:checked~label.sk-toggleable__label {\n",
       "  background-color: var(--sklearn-color-fitted-level-2);\n",
       "}\n",
       "\n",
       "/* Estimator-specific style */\n",
       "\n",
       "/* Colorize estimator box */\n",
       "#sk-container-id-1 div.sk-estimator input.sk-toggleable__control:checked~label.sk-toggleable__label {\n",
       "  /* unfitted */\n",
       "  background-color: var(--sklearn-color-unfitted-level-2);\n",
       "}\n",
       "\n",
       "#sk-container-id-1 div.sk-estimator.fitted input.sk-toggleable__control:checked~label.sk-toggleable__label {\n",
       "  /* fitted */\n",
       "  background-color: var(--sklearn-color-fitted-level-2);\n",
       "}\n",
       "\n",
       "#sk-container-id-1 div.sk-label label.sk-toggleable__label,\n",
       "#sk-container-id-1 div.sk-label label {\n",
       "  /* The background is the default theme color */\n",
       "  color: var(--sklearn-color-text-on-default-background);\n",
       "}\n",
       "\n",
       "/* On hover, darken the color of the background */\n",
       "#sk-container-id-1 div.sk-label:hover label.sk-toggleable__label {\n",
       "  color: var(--sklearn-color-text);\n",
       "  background-color: var(--sklearn-color-unfitted-level-2);\n",
       "}\n",
       "\n",
       "/* Label box, darken color on hover, fitted */\n",
       "#sk-container-id-1 div.sk-label.fitted:hover label.sk-toggleable__label.fitted {\n",
       "  color: var(--sklearn-color-text);\n",
       "  background-color: var(--sklearn-color-fitted-level-2);\n",
       "}\n",
       "\n",
       "/* Estimator label */\n",
       "\n",
       "#sk-container-id-1 div.sk-label label {\n",
       "  font-family: monospace;\n",
       "  font-weight: bold;\n",
       "  display: inline-block;\n",
       "  line-height: 1.2em;\n",
       "}\n",
       "\n",
       "#sk-container-id-1 div.sk-label-container {\n",
       "  text-align: center;\n",
       "}\n",
       "\n",
       "/* Estimator-specific */\n",
       "#sk-container-id-1 div.sk-estimator {\n",
       "  font-family: monospace;\n",
       "  border: 1px dotted var(--sklearn-color-border-box);\n",
       "  border-radius: 0.25em;\n",
       "  box-sizing: border-box;\n",
       "  margin-bottom: 0.5em;\n",
       "  /* unfitted */\n",
       "  background-color: var(--sklearn-color-unfitted-level-0);\n",
       "}\n",
       "\n",
       "#sk-container-id-1 div.sk-estimator.fitted {\n",
       "  /* fitted */\n",
       "  background-color: var(--sklearn-color-fitted-level-0);\n",
       "}\n",
       "\n",
       "/* on hover */\n",
       "#sk-container-id-1 div.sk-estimator:hover {\n",
       "  /* unfitted */\n",
       "  background-color: var(--sklearn-color-unfitted-level-2);\n",
       "}\n",
       "\n",
       "#sk-container-id-1 div.sk-estimator.fitted:hover {\n",
       "  /* fitted */\n",
       "  background-color: var(--sklearn-color-fitted-level-2);\n",
       "}\n",
       "\n",
       "/* Specification for estimator info (e.g. \"i\" and \"?\") */\n",
       "\n",
       "/* Common style for \"i\" and \"?\" */\n",
       "\n",
       ".sk-estimator-doc-link,\n",
       "a:link.sk-estimator-doc-link,\n",
       "a:visited.sk-estimator-doc-link {\n",
       "  float: right;\n",
       "  font-size: smaller;\n",
       "  line-height: 1em;\n",
       "  font-family: monospace;\n",
       "  background-color: var(--sklearn-color-background);\n",
       "  border-radius: 1em;\n",
       "  height: 1em;\n",
       "  width: 1em;\n",
       "  text-decoration: none !important;\n",
       "  margin-left: 1ex;\n",
       "  /* unfitted */\n",
       "  border: var(--sklearn-color-unfitted-level-1) 1pt solid;\n",
       "  color: var(--sklearn-color-unfitted-level-1);\n",
       "}\n",
       "\n",
       ".sk-estimator-doc-link.fitted,\n",
       "a:link.sk-estimator-doc-link.fitted,\n",
       "a:visited.sk-estimator-doc-link.fitted {\n",
       "  /* fitted */\n",
       "  border: var(--sklearn-color-fitted-level-1) 1pt solid;\n",
       "  color: var(--sklearn-color-fitted-level-1);\n",
       "}\n",
       "\n",
       "/* On hover */\n",
       "div.sk-estimator:hover .sk-estimator-doc-link:hover,\n",
       ".sk-estimator-doc-link:hover,\n",
       "div.sk-label-container:hover .sk-estimator-doc-link:hover,\n",
       ".sk-estimator-doc-link:hover {\n",
       "  /* unfitted */\n",
       "  background-color: var(--sklearn-color-unfitted-level-3);\n",
       "  color: var(--sklearn-color-background);\n",
       "  text-decoration: none;\n",
       "}\n",
       "\n",
       "div.sk-estimator.fitted:hover .sk-estimator-doc-link.fitted:hover,\n",
       ".sk-estimator-doc-link.fitted:hover,\n",
       "div.sk-label-container:hover .sk-estimator-doc-link.fitted:hover,\n",
       ".sk-estimator-doc-link.fitted:hover {\n",
       "  /* fitted */\n",
       "  background-color: var(--sklearn-color-fitted-level-3);\n",
       "  color: var(--sklearn-color-background);\n",
       "  text-decoration: none;\n",
       "}\n",
       "\n",
       "/* Span, style for the box shown on hovering the info icon */\n",
       ".sk-estimator-doc-link span {\n",
       "  display: none;\n",
       "  z-index: 9999;\n",
       "  position: relative;\n",
       "  font-weight: normal;\n",
       "  right: .2ex;\n",
       "  padding: .5ex;\n",
       "  margin: .5ex;\n",
       "  width: min-content;\n",
       "  min-width: 20ex;\n",
       "  max-width: 50ex;\n",
       "  color: var(--sklearn-color-text);\n",
       "  box-shadow: 2pt 2pt 4pt #999;\n",
       "  /* unfitted */\n",
       "  background: var(--sklearn-color-unfitted-level-0);\n",
       "  border: .5pt solid var(--sklearn-color-unfitted-level-3);\n",
       "}\n",
       "\n",
       ".sk-estimator-doc-link.fitted span {\n",
       "  /* fitted */\n",
       "  background: var(--sklearn-color-fitted-level-0);\n",
       "  border: var(--sklearn-color-fitted-level-3);\n",
       "}\n",
       "\n",
       ".sk-estimator-doc-link:hover span {\n",
       "  display: block;\n",
       "}\n",
       "\n",
       "/* \"?\"-specific style due to the `<a>` HTML tag */\n",
       "\n",
       "#sk-container-id-1 a.estimator_doc_link {\n",
       "  float: right;\n",
       "  font-size: 1rem;\n",
       "  line-height: 1em;\n",
       "  font-family: monospace;\n",
       "  background-color: var(--sklearn-color-background);\n",
       "  border-radius: 1rem;\n",
       "  height: 1rem;\n",
       "  width: 1rem;\n",
       "  text-decoration: none;\n",
       "  /* unfitted */\n",
       "  color: var(--sklearn-color-unfitted-level-1);\n",
       "  border: var(--sklearn-color-unfitted-level-1) 1pt solid;\n",
       "}\n",
       "\n",
       "#sk-container-id-1 a.estimator_doc_link.fitted {\n",
       "  /* fitted */\n",
       "  border: var(--sklearn-color-fitted-level-1) 1pt solid;\n",
       "  color: var(--sklearn-color-fitted-level-1);\n",
       "}\n",
       "\n",
       "/* On hover */\n",
       "#sk-container-id-1 a.estimator_doc_link:hover {\n",
       "  /* unfitted */\n",
       "  background-color: var(--sklearn-color-unfitted-level-3);\n",
       "  color: var(--sklearn-color-background);\n",
       "  text-decoration: none;\n",
       "}\n",
       "\n",
       "#sk-container-id-1 a.estimator_doc_link.fitted:hover {\n",
       "  /* fitted */\n",
       "  background-color: var(--sklearn-color-fitted-level-3);\n",
       "}\n",
       "</style><div id=\"sk-container-id-1\" class=\"sk-top-container\"><div class=\"sk-text-repr-fallback\"><pre>RandomForestClassifier(bootstrap=False, max_depth=20, n_estimators=800)</pre><b>In a Jupyter environment, please rerun this cell to show the HTML representation or trust the notebook. <br />On GitHub, the HTML representation is unable to render, please try loading this page with nbviewer.org.</b></div><div class=\"sk-container\" hidden><div class=\"sk-item\"><div class=\"sk-estimator fitted sk-toggleable\"><input class=\"sk-toggleable__control sk-hidden--visually\" id=\"sk-estimator-id-1\" type=\"checkbox\" checked><label for=\"sk-estimator-id-1\" class=\"sk-toggleable__label fitted sk-toggleable__label-arrow fitted\">&nbsp;&nbsp;RandomForestClassifier<a class=\"sk-estimator-doc-link fitted\" rel=\"noreferrer\" target=\"_blank\" href=\"https://scikit-learn.org/1.4/modules/generated/sklearn.ensemble.RandomForestClassifier.html\">?<span>Documentation for RandomForestClassifier</span></a><span class=\"sk-estimator-doc-link fitted\">i<span>Fitted</span></span></label><div class=\"sk-toggleable__content fitted\"><pre>RandomForestClassifier(bootstrap=False, max_depth=20, n_estimators=800)</pre></div> </div></div></div></div>"
      ],
      "text/plain": [
       "RandomForestClassifier(bootstrap=False, max_depth=20, n_estimators=800)"
      ]
     },
     "execution_count": 53,
     "metadata": {},
     "output_type": "execute_result"
    }
   ],
   "source": [
    "rfc.fit(X_train_smote_prop, y_train_smote_prop)"
   ]
  },
  {
   "cell_type": "markdown",
   "metadata": {},
   "source": [
    "### Measure accuracy of model and Log Loss"
   ]
  },
  {
   "cell_type": "code",
   "execution_count": 54,
   "metadata": {},
   "outputs": [
    {
     "name": "stdout",
     "output_type": "stream",
     "text": [
      "Validation Accuracy: 0.9654377880184332\n",
      "Validation Log Loss: 0.08358249080849686\n"
     ]
    }
   ],
   "source": [
    "from sklearn.metrics import log_loss\n",
    "\n",
    "#y test preds\n",
    "y_test_preds = rfc.predict(X_test)\n",
    "\n",
    "# Predict probabilities (for log loss)\n",
    "y_test_prob = rfc.predict_proba(X_test)\n",
    "\n",
    "# Calculate accuracy\n",
    "val_acc = accuracy_score(y_test, y_test_preds)\n",
    "\n",
    "# Calculate log loss\n",
    "val_log_loss = log_loss(y_test, y_test_prob)\n",
    "\n",
    "print(f\"Validation Accuracy: {val_acc}\")\n",
    "print(f\"Validation Log Loss: {val_log_loss}\")"
   ]
  },
  {
   "cell_type": "markdown",
   "metadata": {},
   "source": [
    "### Generate predictions"
   ]
  },
  {
   "cell_type": "code",
   "execution_count": 55,
   "metadata": {},
   "outputs": [],
   "source": [
    "y_preds_smote_prop = rfc.predict(X_test)"
   ]
  },
  {
   "cell_type": "code",
   "execution_count": 56,
   "metadata": {},
   "outputs": [
    {
     "data": {
      "text/plain": [
       "array([[ 41,   1,   2],\n",
       "       [  0, 264,   1],\n",
       "       [  2,   9, 114]], dtype=int64)"
      ]
     },
     "execution_count": 56,
     "metadata": {},
     "output_type": "execute_result"
    }
   ],
   "source": [
    "# Create a confusion matrix using the confusion_matrix function\n",
    "confusion_matrix(y_test, y_preds_smote_prop)"
   ]
  },
  {
   "cell_type": "code",
   "execution_count": 57,
   "metadata": {},
   "outputs": [
    {
     "data": {
      "image/png": "[encoded data removed]",
      "text/plain": [
       "<Figure size 300x300 with 1 Axes>"
      ]
     },
     "metadata": {},
     "output_type": "display_data"
    }
   ],
   "source": [
    "# Make confusion matrix more visual\n",
    "def plot_conf_mat(y_test, y_preds):\n",
    "    \"\"\"\n",
    "    Plots a confusion matrix using Seaborn's heatmap().\n",
    "    \"\"\"\n",
    "    fig, ax = plt.subplots(figsize=(3, 3))\n",
    "    ax = sns.heatmap(confusion_matrix(y_test, y_preds),\n",
    "                     annot=True, # Annotate the boxes\n",
    "                     cbar=False)\n",
    "    plt.xlabel(\"True label\")\n",
    "    plt.ylabel(\"Predicted label\")\n",
    "    \n",
    "    # Fix the broken annotations (this happened in Matplotlib 3.1.1)\n",
    "    bottom, top = ax.get_ylim()\n",
    "    ax.set_ylim(bottom + 0.5, top - 0.5);\n",
    "    \n",
    "plot_conf_mat(y_test, y_preds_smote_prop)\n",
    "plt.show()"
   ]
  },
  {
   "cell_type": "code",
   "execution_count": 58,
   "metadata": {},
   "outputs": [
    {
     "name": "stdout",
     "output_type": "stream",
     "text": [
      "              precision    recall  f1-score   support\n",
      "\n",
      "        High       0.95      0.93      0.94        44\n",
      "         Low       0.96      1.00      0.98       265\n",
      "    Moderate       0.97      0.91      0.94       125\n",
      "\n",
      "    accuracy                           0.97       434\n",
      "   macro avg       0.96      0.95      0.95       434\n",
      "weighted avg       0.97      0.97      0.97       434\n",
      "\n"
     ]
    }
   ],
   "source": [
    "# New classification report\n",
    "print(classification_report(y_test, y_preds_smote_prop))"
   ]
  },
  {
   "cell_type": "code",
   "execution_count": 59,
   "metadata": {},
   "outputs": [
    {
     "data": {
      "text/plain": [
       "0.9203653653653653"
      ]
     },
     "execution_count": 59,
     "metadata": {},
     "output_type": "execute_result"
    }
   ],
   "source": [
    "# Taking the mean of the returned values from cross_val_score \n",
    "# gives a cross-validated version of the scoring metric.\n",
    "cross_val_rfc = np.mean(cross_val_score(rfc,\n",
    "                                        X_res_2,\n",
    "                                        y_res_2,\n",
    "                                        scoring=\"accuracy\",\n",
    "                                        cv=5))\n",
    "\n",
    "cross_val_rfc"
   ]
  },
  {
   "cell_type": "code",
   "execution_count": 60,
   "metadata": {},
   "outputs": [
    {
     "name": "stdout",
     "output_type": "stream",
     "text": [
      "Improvement of 2.47%.\n"
     ]
    }
   ],
   "source": [
    "#Improvement as a result of hyperparameter tuning\n",
    "print('Improvement of {:0.2f}%.'.format( 100 * (cross_val_rfc - cross_val_acc_rfc) / cross_val_acc_rfc))"
   ]
  },
  {
   "cell_type": "markdown",
   "metadata": {},
   "source": [
    "# Testing SMOTE model"
   ]
  },
  {
   "cell_type": "code",
   "execution_count": 61,
   "metadata": {},
   "outputs": [
    {
     "data": {
      "text/html": [
       "<div>\n",
       "<style scoped>\n",
       "    .dataframe tbody tr th:only-of-type {\n",
       "        vertical-align: middle;\n",
       "    }\n",
       "\n",
       "    .dataframe tbody tr th {\n",
       "        vertical-align: top;\n",
       "    }\n",
       "\n",
       "    .dataframe thead th {\n",
       "        text-align: right;\n",
       "    }\n",
       "</style>\n",
       "<table border=\"1\" class=\"dataframe\">\n",
       "  <thead>\n",
       "    <tr style=\"text-align: right;\">\n",
       "      <th></th>\n",
       "      <th>CCAPSClientID</th>\n",
       "      <th>Distress_Index</th>\n",
       "      <th>Categories</th>\n",
       "    </tr>\n",
       "  </thead>\n",
       "  <tbody>\n",
       "    <tr>\n",
       "      <th>1</th>\n",
       "      <td>643590</td>\n",
       "      <td>1.75000</td>\n",
       "      <td>Moderate</td>\n",
       "    </tr>\n",
       "    <tr>\n",
       "      <th>3</th>\n",
       "      <td>643635</td>\n",
       "      <td>1.20000</td>\n",
       "      <td>Low</td>\n",
       "    </tr>\n",
       "    <tr>\n",
       "      <th>5</th>\n",
       "      <td>643635</td>\n",
       "      <td>0.40000</td>\n",
       "      <td>Low</td>\n",
       "    </tr>\n",
       "    <tr>\n",
       "      <th>7</th>\n",
       "      <td>643635</td>\n",
       "      <td>0.00001</td>\n",
       "      <td>Low</td>\n",
       "    </tr>\n",
       "    <tr>\n",
       "      <th>9</th>\n",
       "      <td>643679</td>\n",
       "      <td>1.15000</td>\n",
       "      <td>Low</td>\n",
       "    </tr>\n",
       "    <tr>\n",
       "      <th>11</th>\n",
       "      <td>643679</td>\n",
       "      <td>1.00000</td>\n",
       "      <td>Low</td>\n",
       "    </tr>\n",
       "    <tr>\n",
       "      <th>13</th>\n",
       "      <td>643703</td>\n",
       "      <td>2.10000</td>\n",
       "      <td>Moderate</td>\n",
       "    </tr>\n",
       "    <tr>\n",
       "      <th>15</th>\n",
       "      <td>643784</td>\n",
       "      <td>2.05000</td>\n",
       "      <td>Moderate</td>\n",
       "    </tr>\n",
       "    <tr>\n",
       "      <th>17</th>\n",
       "      <td>643784</td>\n",
       "      <td>2.20000</td>\n",
       "      <td>Moderate</td>\n",
       "    </tr>\n",
       "    <tr>\n",
       "      <th>19</th>\n",
       "      <td>643841</td>\n",
       "      <td>1.50000</td>\n",
       "      <td>Moderate</td>\n",
       "    </tr>\n",
       "    <tr>\n",
       "      <th>21</th>\n",
       "      <td>644160</td>\n",
       "      <td>2.20000</td>\n",
       "      <td>Moderate</td>\n",
       "    </tr>\n",
       "    <tr>\n",
       "      <th>23</th>\n",
       "      <td>644160</td>\n",
       "      <td>1.80000</td>\n",
       "      <td>Moderate</td>\n",
       "    </tr>\n",
       "    <tr>\n",
       "      <th>25</th>\n",
       "      <td>644160</td>\n",
       "      <td>1.35000</td>\n",
       "      <td>Moderate</td>\n",
       "    </tr>\n",
       "    <tr>\n",
       "      <th>28</th>\n",
       "      <td>644308</td>\n",
       "      <td>1.10000</td>\n",
       "      <td>Low</td>\n",
       "    </tr>\n",
       "    <tr>\n",
       "      <th>30</th>\n",
       "      <td>644745</td>\n",
       "      <td>1.55000</td>\n",
       "      <td>Moderate</td>\n",
       "    </tr>\n",
       "    <tr>\n",
       "      <th>32</th>\n",
       "      <td>644745</td>\n",
       "      <td>1.90000</td>\n",
       "      <td>Moderate</td>\n",
       "    </tr>\n",
       "    <tr>\n",
       "      <th>35</th>\n",
       "      <td>645225</td>\n",
       "      <td>1.55000</td>\n",
       "      <td>Moderate</td>\n",
       "    </tr>\n",
       "    <tr>\n",
       "      <th>37</th>\n",
       "      <td>645225</td>\n",
       "      <td>1.90000</td>\n",
       "      <td>Moderate</td>\n",
       "    </tr>\n",
       "    <tr>\n",
       "      <th>44</th>\n",
       "      <td>645236</td>\n",
       "      <td>0.05000</td>\n",
       "      <td>Low</td>\n",
       "    </tr>\n",
       "    <tr>\n",
       "      <th>46</th>\n",
       "      <td>645293</td>\n",
       "      <td>0.50000</td>\n",
       "      <td>Low</td>\n",
       "    </tr>\n",
       "  </tbody>\n",
       "</table>\n",
       "</div>"
      ],
      "text/plain": [
       "   CCAPSClientID  Distress_Index Categories\n",
       "1         643590         1.75000   Moderate\n",
       "3         643635         1.20000        Low\n",
       "5         643635         0.40000        Low\n",
       "7         643635         0.00001        Low\n",
       "9         643679         1.15000        Low\n",
       "11        643679         1.00000        Low\n",
       "13        643703         2.10000   Moderate\n",
       "15        643784         2.05000   Moderate\n",
       "17        643784         2.20000   Moderate\n",
       "19        643841         1.50000   Moderate\n",
       "21        644160         2.20000   Moderate\n",
       "23        644160         1.80000   Moderate\n",
       "25        644160         1.35000   Moderate\n",
       "28        644308         1.10000        Low\n",
       "30        644745         1.55000   Moderate\n",
       "32        644745         1.90000   Moderate\n",
       "35        645225         1.55000   Moderate\n",
       "37        645225         1.90000   Moderate\n",
       "44        645236         0.05000        Low\n",
       "46        645293         0.50000        Low"
      ]
     },
     "execution_count": 61,
     "metadata": {},
     "output_type": "execute_result"
    }
   ],
   "source": [
    "exit_DI.head(20)"
   ]
  },
  {
   "cell_type": "code",
   "execution_count": 62,
   "metadata": {},
   "outputs": [
    {
     "data": {
      "text/html": [
       "<div>\n",
       "<style scoped>\n",
       "    .dataframe tbody tr th:only-of-type {\n",
       "        vertical-align: middle;\n",
       "    }\n",
       "\n",
       "    .dataframe tbody tr th {\n",
       "        vertical-align: top;\n",
       "    }\n",
       "\n",
       "    .dataframe thead th {\n",
       "        text-align: right;\n",
       "    }\n",
       "</style>\n",
       "<table border=\"1\" class=\"dataframe\">\n",
       "  <thead>\n",
       "    <tr style=\"text-align: right;\">\n",
       "      <th></th>\n",
       "      <th>CCAPSClientID</th>\n",
       "      <th>Date</th>\n",
       "      <th>Depression</th>\n",
       "      <th>Generalized_Anxiety</th>\n",
       "      <th>Social_Anxiety</th>\n",
       "      <th>Academic_Distress</th>\n",
       "      <th>Eating_Concerns</th>\n",
       "      <th>Frustration_Anger</th>\n",
       "      <th>Family_Distress</th>\n",
       "      <th>Substance_Use</th>\n",
       "      <th>Thoughts_of_Hurting_Others</th>\n",
       "      <th>Suicide_Index</th>\n",
       "      <th>Categories</th>\n",
       "    </tr>\n",
       "  </thead>\n",
       "  <tbody>\n",
       "    <tr>\n",
       "      <th>124</th>\n",
       "      <td>656708</td>\n",
       "      <td>4/28/2022 0:00</td>\n",
       "      <td>2.000000</td>\n",
       "      <td>2.000000</td>\n",
       "      <td>3.142857</td>\n",
       "      <td>0.6</td>\n",
       "      <td>0.000000</td>\n",
       "      <td>0.428571</td>\n",
       "      <td>2.666667</td>\n",
       "      <td>0.0</td>\n",
       "      <td>0.0</td>\n",
       "      <td>1.0</td>\n",
       "      <td>Moderate</td>\n",
       "    </tr>\n",
       "    <tr>\n",
       "      <th>126</th>\n",
       "      <td>656708</td>\n",
       "      <td>12/6/2022 0:00</td>\n",
       "      <td>1.846154</td>\n",
       "      <td>2.777778</td>\n",
       "      <td>3.285714</td>\n",
       "      <td>0.8</td>\n",
       "      <td>0.000000</td>\n",
       "      <td>0.142857</td>\n",
       "      <td>2.333333</td>\n",
       "      <td>0.0</td>\n",
       "      <td>0.0</td>\n",
       "      <td>0.0</td>\n",
       "      <td>Moderate</td>\n",
       "    </tr>\n",
       "    <tr>\n",
       "      <th>128</th>\n",
       "      <td>656708</td>\n",
       "      <td>5/2/2023 0:00</td>\n",
       "      <td>2.153846</td>\n",
       "      <td>2.666667</td>\n",
       "      <td>3.714286</td>\n",
       "      <td>0.4</td>\n",
       "      <td>0.555556</td>\n",
       "      <td>0.142857</td>\n",
       "      <td>3.000000</td>\n",
       "      <td>0.0</td>\n",
       "      <td>0.0</td>\n",
       "      <td>0.0</td>\n",
       "      <td>Moderate</td>\n",
       "    </tr>\n",
       "    <tr>\n",
       "      <th>130</th>\n",
       "      <td>657604</td>\n",
       "      <td>8/26/2021 0:00</td>\n",
       "      <td>2.384615</td>\n",
       "      <td>1.111111</td>\n",
       "      <td>0.571429</td>\n",
       "      <td>1.8</td>\n",
       "      <td>0.111111</td>\n",
       "      <td>1.142857</td>\n",
       "      <td>0.833333</td>\n",
       "      <td>0.0</td>\n",
       "      <td>0.0</td>\n",
       "      <td>2.0</td>\n",
       "      <td>Low</td>\n",
       "    </tr>\n",
       "    <tr>\n",
       "      <th>132</th>\n",
       "      <td>657604</td>\n",
       "      <td>9/8/2022 0:00</td>\n",
       "      <td>1.846154</td>\n",
       "      <td>2.666667</td>\n",
       "      <td>0.000000</td>\n",
       "      <td>0.4</td>\n",
       "      <td>2.555556</td>\n",
       "      <td>0.285714</td>\n",
       "      <td>1.666667</td>\n",
       "      <td>0.5</td>\n",
       "      <td>0.0</td>\n",
       "      <td>2.0</td>\n",
       "      <td>Low</td>\n",
       "    </tr>\n",
       "    <tr>\n",
       "      <th>134</th>\n",
       "      <td>657627</td>\n",
       "      <td>8/26/2021 0:00</td>\n",
       "      <td>2.461538</td>\n",
       "      <td>3.111111</td>\n",
       "      <td>2.285714</td>\n",
       "      <td>1.6</td>\n",
       "      <td>3.222222</td>\n",
       "      <td>2.142857</td>\n",
       "      <td>2.166667</td>\n",
       "      <td>0.0</td>\n",
       "      <td>0.0</td>\n",
       "      <td>2.0</td>\n",
       "      <td>High</td>\n",
       "    </tr>\n",
       "  </tbody>\n",
       "</table>\n",
       "</div>"
      ],
      "text/plain": [
       "     CCAPSClientID            Date  Depression  Generalized_Anxiety  \\\n",
       "124         656708  4/28/2022 0:00    2.000000             2.000000   \n",
       "126         656708  12/6/2022 0:00    1.846154             2.777778   \n",
       "128         656708   5/2/2023 0:00    2.153846             2.666667   \n",
       "130         657604  8/26/2021 0:00    2.384615             1.111111   \n",
       "132         657604   9/8/2022 0:00    1.846154             2.666667   \n",
       "134         657627  8/26/2021 0:00    2.461538             3.111111   \n",
       "\n",
       "     Social_Anxiety  Academic_Distress  Eating_Concerns  Frustration_Anger  \\\n",
       "124        3.142857                0.6         0.000000           0.428571   \n",
       "126        3.285714                0.8         0.000000           0.142857   \n",
       "128        3.714286                0.4         0.555556           0.142857   \n",
       "130        0.571429                1.8         0.111111           1.142857   \n",
       "132        0.000000                0.4         2.555556           0.285714   \n",
       "134        2.285714                1.6         3.222222           2.142857   \n",
       "\n",
       "     Family_Distress  Substance_Use  Thoughts_of_Hurting_Others  \\\n",
       "124         2.666667            0.0                         0.0   \n",
       "126         2.333333            0.0                         0.0   \n",
       "128         3.000000            0.0                         0.0   \n",
       "130         0.833333            0.0                         0.0   \n",
       "132         1.666667            0.5                         0.0   \n",
       "134         2.166667            0.0                         0.0   \n",
       "\n",
       "     Suicide_Index Categories  \n",
       "124            1.0   Moderate  \n",
       "126            0.0   Moderate  \n",
       "128            0.0   Moderate  \n",
       "130            2.0        Low  \n",
       "132            2.0        Low  \n",
       "134            2.0       High  "
      ]
     },
     "execution_count": 62,
     "metadata": {},
     "output_type": "execute_result"
    }
   ],
   "source": [
    "#Manual Testing\n",
    "exit_cats = pd.DataFrame(exit_DI['Categories'])\n",
    "testing_df = pd.concat([ccaps_features, exit_cats.set_index(ccaps_features.index)], axis=1)\n",
    "# testing_df = ccaps_features.insert(12, exit_DI['Categories'])\n",
    "testing_df[40:46]"
   ]
  },
  {
   "cell_type": "code",
   "execution_count": 63,
   "metadata": {},
   "outputs": [
    {
     "name": "stdout",
     "output_type": "stream",
     "text": [
      "['Moderate']\n",
      "['Moderate']\n",
      "['Moderate']\n"
     ]
    },
    {
     "name": "stderr",
     "output_type": "stream",
     "text": [
      "C:\\Users\\JCross\\Desktop\\CCAPS_ML\\env\\Lib\\site-packages\\sklearn\\base.py:493: UserWarning: X does not have valid feature names, but RandomForestClassifier was fitted with feature names\n",
      "  warnings.warn(\n",
      "C:\\Users\\JCross\\Desktop\\CCAPS_ML\\env\\Lib\\site-packages\\sklearn\\base.py:493: UserWarning: X does not have valid feature names, but RandomForestClassifier was fitted with feature names\n",
      "  warnings.warn(\n",
      "C:\\Users\\JCross\\Desktop\\CCAPS_ML\\env\\Lib\\site-packages\\sklearn\\base.py:493: UserWarning: X does not have valid feature names, but RandomForestClassifier was fitted with feature names\n",
      "  warnings.warn(\n",
      "C:\\Users\\JCross\\Desktop\\CCAPS_ML\\env\\Lib\\site-packages\\sklearn\\base.py:493: UserWarning: X does not have valid feature names, but RandomForestClassifier was fitted with feature names\n",
      "  warnings.warn(\n",
      "C:\\Users\\JCross\\Desktop\\CCAPS_ML\\env\\Lib\\site-packages\\sklearn\\base.py:493: UserWarning: X does not have valid feature names, but RandomForestClassifier was fitted with feature names\n",
      "  warnings.warn(\n",
      "C:\\Users\\JCross\\Desktop\\CCAPS_ML\\env\\Lib\\site-packages\\sklearn\\base.py:493: UserWarning: X does not have valid feature names, but RandomForestClassifier was fitted with feature names\n",
      "  warnings.warn(\n"
     ]
    },
    {
     "name": "stdout",
     "output_type": "stream",
     "text": [
      "['High']\n",
      "['High']\n",
      "['Low']\n",
      "['Low']\n"
     ]
    },
    {
     "name": "stderr",
     "output_type": "stream",
     "text": [
      "C:\\Users\\JCross\\Desktop\\CCAPS_ML\\env\\Lib\\site-packages\\sklearn\\base.py:493: UserWarning: X does not have valid feature names, but RandomForestClassifier was fitted with feature names\n",
      "  warnings.warn(\n"
     ]
    }
   ],
   "source": [
    "test1=rfc.predict([testing_df.iloc[0, 2:12]])\n",
    "print(test1)\n",
    "\n",
    "test2 = rfc.predict([testing_df.iloc[7, 2:12]])\n",
    "print(test2)\n",
    "\n",
    "test3 = rfc.predict([testing_df.iloc[9, 2:12]])\n",
    "print(test3)\n",
    "\n",
    "test4 = rfc.predict([testing_df.iloc[10, 2:12]])\n",
    "print(test4)\n",
    "\n",
    "test5 = rfc.predict([testing_df.iloc[45, 2:12]])\n",
    "print(test5)\n",
    "\n",
    "test6 = rfc.predict([testing_df.iloc[65, 2:12]])\n",
    "print(test6)\n",
    "\n",
    "test7_list = np.array([1.69, 2.33, 0.71, 1.8, 0, 1.71, 2, 0, 0, 0]).reshape(1, -1)\n",
    "test7 = rfc.predict(test7_list)\n",
    "print(test7)"
   ]
  },
  {
   "cell_type": "code",
   "execution_count": 64,
   "metadata": {},
   "outputs": [
    {
     "name": "stderr",
     "output_type": "stream",
     "text": [
      "C:\\Users\\JCross\\Desktop\\CCAPS_ML\\env\\Lib\\site-packages\\sklearn\\base.py:493: UserWarning: X does not have valid feature names, but RandomForestClassifier was fitted with feature names\n",
      "  warnings.warn(\n"
     ]
    },
    {
     "data": {
      "text/plain": [
       "'81.0%'"
      ]
     },
     "execution_count": 64,
     "metadata": {},
     "output_type": "execute_result"
    }
   ],
   "source": [
    "probabilities = rfc.predict_proba([testing_df.iloc[0, 2:12]])\n",
    "probability = np.max(probabilities, axis=1)\n",
    "probs = str(probability[0].round(2)*10e1) + \"%\"\n",
    "probs"
   ]
  },
  {
   "cell_type": "markdown",
   "metadata": {},
   "source": [
    "# Feature Importance"
   ]
  },
  {
   "cell_type": "markdown",
   "metadata": {},
   "source": [
    "### Which features contributed most to the outcome of the model and how did they contribute?\n",
    "\n",
    "### Find the feature importance for this RandomForestClassifier Model."
   ]
  },
  {
   "cell_type": "code",
   "execution_count": 65,
   "metadata": {},
   "outputs": [
    {
     "data": {
      "text/plain": [
       "array([0.16905333, 0.1559047 , 0.12296954, 0.12390866, 0.10729679,\n",
       "       0.11548662, 0.10832878, 0.03671215, 0.01544008, 0.04489935])"
      ]
     },
     "execution_count": 65,
     "metadata": {},
     "output_type": "execute_result"
    }
   ],
   "source": [
    "#Check coef_\n",
    "rfc.feature_importances_"
   ]
  },
  {
   "cell_type": "code",
   "execution_count": 66,
   "metadata": {},
   "outputs": [
    {
     "data": {
      "text/plain": [
       "{'Depression': 0.16905332697692965,\n",
       " 'Generalized_Anxiety': 0.1559047040636285,\n",
       " 'Social_Anxiety': 0.12296953701306586,\n",
       " 'Academic_Distress': 0.12390865903585609,\n",
       " 'Eating_Concerns': 0.1072967922183883,\n",
       " 'Frustration_Anger': 0.11548662120128013,\n",
       " 'Family_Distress': 0.10832878158434892,\n",
       " 'Substance_Use': 0.03671214555061376,\n",
       " 'Thoughts_of_Hurting_Others': 0.015440082284476546,\n",
       " 'Suicide_Index': 0.044899350071412186}"
      ]
     },
     "execution_count": 66,
     "metadata": {},
     "output_type": "execute_result"
    }
   ],
   "source": [
    "# #Match coef's of features to columns\n",
    "feature_dict =dict(zip(X.columns, list(rfc.feature_importances_)))\n",
    "feature_dict"
   ]
  },
  {
   "cell_type": "markdown",
   "metadata": {},
   "source": [
    "### This is telling us how much each of these features contributes to predicting the target variable."
   ]
  },
  {
   "cell_type": "code",
   "execution_count": 67,
   "metadata": {},
   "outputs": [
    {
     "data": {
      "image/png": "[encoded data removed]",
      "text/plain": [
       "<Figure size 640x480 with 1 Axes>"
      ]
     },
     "metadata": {},
     "output_type": "display_data"
    }
   ],
   "source": [
    "# #Visualize feature importance\n",
    "feature_df = pd.DataFrame(feature_dict, index = [0])\n",
    "feature_df.T.plot.bar(title = 'Feature Importance', legend = False);"
   ]
  },
  {
   "cell_type": "code",
   "execution_count": 68,
   "metadata": {},
   "outputs": [],
   "source": [
    "#further evaluation on a classification model\n",
    "def evaluate_preds(y_true, y_preds):\n",
    "    accuracy = accuracy_score(y_true, y_preds)\n",
    "    precision = precision_score(y_true, y_preds, average = 'weighted')\n",
    "    recall = recall_score(y_true, y_preds, average = 'weighted')\n",
    "    f1 = f1_score(y_true, y_preds, average = 'weighted')\n",
    "    metric_dict = { \"accuracy\": round(accuracy, 2),\n",
    "                    \"precision\": round(precision, 2),\n",
    "                    \"recall\": round(recall, 2),\n",
    "                    \"f1\": round(f1, 2)}\n",
    "    print(f\"Acc: {accuracy * 100:.2f}\")\n",
    "    print(f\"Precision: {precision: .2f}\")\n",
    "    print(f\"Recall: {recall:.2f}\")\n",
    "    print(f\"F1 score: {f1:.2f}\")\n",
    "\n",
    "    return metric_dict"
   ]
  },
  {
   "cell_type": "markdown",
   "metadata": {},
   "source": [
    "# Exporting\n",
    "###  If model meets evaluation metric (accuracy) goal for Low = .80, Medium = .80, High = .80, export to include in application."
   ]
  },
  {
   "cell_type": "code",
   "execution_count": 69,
   "metadata": {},
   "outputs": [
    {
     "data": {
      "text/plain": [
       "['CCAPS_Outcomes_Prediction_ML_rfc.joblib']"
      ]
     },
     "execution_count": 69,
     "metadata": {},
     "output_type": "execute_result"
    }
   ],
   "source": [
    "#save and load the model using Joblib\n",
    "from joblib import dump, load\n",
    "# Save model to file\n",
    "dump(rfc, filename=\"CCAPS_Outcomes_Prediction_ML_rfc.joblib\")"
   ]
  },
  {
   "cell_type": "code",
   "execution_count": 70,
   "metadata": {},
   "outputs": [],
   "source": [
    "#import the saved joblib model\n",
    "loaded_job_model = load(filename = \"CCAPS_Outcomes_Prediction_ML_rfc.joblib\")"
   ]
  },
  {
   "cell_type": "code",
   "execution_count": 71,
   "metadata": {},
   "outputs": [
    {
     "name": "stdout",
     "output_type": "stream",
     "text": [
      "Acc: 96.54\n",
      "Precision:  0.97\n",
      "Recall: 0.97\n",
      "F1 score: 0.97\n"
     ]
    },
    {
     "data": {
      "text/plain": [
       "{'accuracy': 0.97, 'precision': 0.97, 'recall': 0.97, 'f1': 0.97}"
      ]
     },
     "execution_count": 71,
     "metadata": {},
     "output_type": "execute_result"
    }
   ],
   "source": [
    "# Make and evaluate joblib predictions\n",
    "joblib_y_preds = loaded_job_model.predict(X_test)\n",
    "evaluate_preds(y_test, joblib_y_preds)"
   ]
  },
  {
   "cell_type": "code",
   "execution_count": 72,
   "metadata": {},
   "outputs": [
    {
     "name": "stdout",
     "output_type": "stream",
     "text": [
      "              precision    recall  f1-score   support\n",
      "\n",
      "        High       0.95      0.93      0.94        44\n",
      "         Low       0.96      1.00      0.98       265\n",
      "    Moderate       0.97      0.91      0.94       125\n",
      "\n",
      "    accuracy                           0.97       434\n",
      "   macro avg       0.96      0.95      0.95       434\n",
      "weighted avg       0.97      0.97      0.97       434\n",
      "\n"
     ]
    }
   ],
   "source": [
    "#classification report\n",
    "print(classification_report(y_test, joblib_y_preds)) "
   ]
  },
  {
   "cell_type": "markdown",
   "metadata": {},
   "source": [
    "# Visualizing Accuracy\n",
    "\n",
    "ROC curves are a comparison of a model's true positive rate (TPR) versus a model's false positive rate (FPR)."
   ]
  },
  {
   "cell_type": "code",
   "execution_count": 73,
   "metadata": {},
   "outputs": [],
   "source": [
    "from sklearn import metrics\n",
    "import matplotlib.pyplot as plt\n",
    "from sklearn.metrics import RocCurveDisplay, auc\n",
    "from sklearn.preprocessing import label_binarize\n",
    "from sklearn.preprocessing import LabelBinarizer\n",
    "from sklearn.metrics import roc_curve"
   ]
  },
  {
   "cell_type": "code",
   "execution_count": 74,
   "metadata": {},
   "outputs": [
    {
     "name": "stdout",
     "output_type": "stream",
     "text": [
      "['High' 'Low' 'Moderate']\n"
     ]
    }
   ],
   "source": [
    "#Find out what order the predict_proba method puts the classes in.  This will be important when plotting the roc curve\n",
    "print(rfc.classes_)\n",
    "\n",
    "#Run the prediction probabilities on X_test\n",
    "pred_proba = rfc.predict_proba(X_test)\n",
    "#print(f' This is pred_proba: {pred_proba}')\n",
    "\n",
    "#Make the y_test labels binary due to multiclasses (ROC Curve was designed for binary classification)\n",
    "binary_y = label_binarize(y_test, classes=['Low', 'Moderate', 'High'])\n",
    "#print(f'This is the binary y: {binary_y}')\n",
    "\n",
    "#Continue to binarize until you have three separate arrays of binary numbers for the classes\n",
    "low_binary_y = binary_y[:, 0]\n",
    "#print(f'This is low_binary_y: {low_binary_y}')\n",
    "moderate_binary_y = binary_y[:, 1]\n",
    "#print(f'This is the moderate_binary_y: {moderate_binary_y}')\n",
    "high_binary_y = binary_y[:, 2]\n",
    "#print(f'This is the high_binary_y: {high_binary_y}')\n",
    "\n",
    "#Get the columns of the probability outputs for each class.  Remember the order they are in.\n",
    "high_probs_pos = pred_proba[:, 0]\n",
    "#print(f'This is the binary probs for the \"High\" classifier: {high_probs_pos[:10]}')\n",
    "\n",
    "low_probs_pos = pred_proba[:, 1]\n",
    "#print(f'This is the binary for the \"Low\" classifier: {low_probs_pos[:10]}')\n",
    "\n",
    "moderate_probs_pos = pred_proba[:, 2]\n",
    "#print(f'This is the binary for the \"Moderate\" classifier: {moderate_probs_pos[:10]}')\n",
    "\n",
    "# #Get the FPR, TPR and threshold values\n",
    "fpr_l, tpr_l, thresholds_l = roc_curve(low_binary_y, low_probs_pos)\n",
    "fpr_m, tpr_m, thresholds_m = roc_curve(moderate_binary_y, moderate_probs_pos)\n",
    "fpr_h, tpr_h, thresholds_h = roc_curve(high_binary_y, high_probs_pos)"
   ]
  },
  {
   "cell_type": "code",
   "execution_count": 75,
   "metadata": {},
   "outputs": [
    {
     "data": {
      "image/png": "[encoded data removed]",
      "text/plain": [
       "<Figure size 640x480 with 1 Axes>"
      ]
     },
     "metadata": {},
     "output_type": "display_data"
    },
    {
     "data": {
      "image/png": "[encoded data removed]",
      "text/plain": [
       "<Figure size 640x480 with 1 Axes>"
      ]
     },
     "metadata": {},
     "output_type": "display_data"
    },
    {
     "data": {
      "image/png": "[encoded data removed]",
      "text/plain": [
       "<Figure size 640x480 with 1 Axes>"
      ]
     },
     "metadata": {},
     "output_type": "display_data"
    }
   ],
   "source": [
    "#Create a function for plotting ROC curves\n",
    "def plot_roc_curve(fpr, tpr, title):\n",
    "    \"\"\"\n",
    "    Plots a ROC curve given the false postitive rate (fpr) and trupe positive rate (tpr) of a model.\n",
    "    \"\"\"\n",
    "        # Plot roc curve\n",
    "    plt.plot(fpr, tpr, color = 'orange', label = \"ROC\")\n",
    "    #Plot line with no predictive power (baseline)\n",
    "    plt.plot([0, 1], [0, 1], color='darkblue', linestyle='--', label=\"Guessing\")\n",
    "    #Customize the plot\n",
    "    plt.xlabel(\"False positive rate (fpr)\")\n",
    "    plt.ylabel(\"True positive rate (tpr)\")\n",
    "    plt.title(title)\n",
    "    plt.legend()\n",
    "    plt.show()\n",
    "    \n",
    "plot_roc_curve(fpr_l, tpr_l, 'Receiver Operating Characteristic (ROC) Curve for LOW Class')\n",
    "\n",
    "plot_roc_curve(fpr_m, tpr_m, 'Receiver Operating Characteristic (ROC) Curve for MODERATE Class')\n",
    "\n",
    "plot_roc_curve(fpr_h, tpr_h, 'Receiver Operating Characteristic (ROC) Curver for HIGH Class')\n",
    "\n"
   ]
  },
  {
   "cell_type": "code",
   "execution_count": null,
   "metadata": {},
   "outputs": [],
   "source": []
  }
 ],
 "metadata": {
  "kernelspec": {
   "display_name": "Python 3 (ipykernel)",
   "language": "python",
   "name": "python3"
  },
  "language_info": {
   "codemirror_mode": {
    "name": "ipython",
    "version": 3
   },
   "file_extension": ".py",
   "mimetype": "text/x-python",
   "name": "python",
   "nbconvert_exporter": "python",
   "pygments_lexer": "ipython3",
   "version": "3.12.3"
  }
 },
 "nbformat": 4,
 "nbformat_minor": 4
}
